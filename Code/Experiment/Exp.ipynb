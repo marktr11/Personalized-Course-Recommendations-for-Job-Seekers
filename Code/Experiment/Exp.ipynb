{
 "cells": [
  {
   "cell_type": "code",
   "execution_count": 1,
   "id": "0257cead",
   "metadata": {},
   "outputs": [],
   "source": [
    "import json\n",
    "import random\n",
    "import os\n",
    "import argparse\n",
    "\n",
    "import pandas as pd\n",
    "import numpy as np\n",
    "\n",
    "from collections import defaultdict\n",
    "import yaml\n",
    "from IPython.display import display"
   ]
  },
  {
   "cell_type": "code",
   "execution_count": 2,
   "id": "f6f627db",
   "metadata": {},
   "outputs": [
    {
     "name": "stdout",
     "output_type": "stream",
     "text": [
      "['.gitignore', 'config', 'Experiment', 'jcrec', 'requirements.txt', 'results']\n",
      "C:\\Users\\minhm\\OneDrive - Université Côte d'Azur\\I3S_CNRS_Internship\\Project\\Code\\Experiment\n",
      "False\n"
     ]
    }
   ],
   "source": [
    "print(os.listdir(\"..\"))\n",
    "print(os.getcwd())\n",
    "print(os.path.exists(\"Code/config/run.yaml\"))"
   ]
  },
  {
   "cell_type": "code",
   "execution_count": 3,
   "id": "08464a46",
   "metadata": {},
   "outputs": [],
   "source": [
    "config_path = \"../config/run.yaml\"\n",
    "\n",
    "with open(config_path, \"r\") as f:\n",
    "        config = yaml.load(f, Loader=yaml.FullLoader)"
   ]
  },
  {
   "cell_type": "code",
   "execution_count": 4,
   "id": "d4ca52a2",
   "metadata": {},
   "outputs": [
    {
     "name": "stdout",
     "output_type": "stream",
     "text": [
      "../../Data - Collection/Final/taxonomy.csv\n"
     ]
    }
   ],
   "source": [
    "path = os.path.join(\"../../\", config[\"taxonomy_path\"]) #test path\n",
    "print(path)"
   ]
  },
  {
   "cell_type": "code",
   "execution_count": 5,
   "id": "e9c12c9c",
   "metadata": {},
   "outputs": [],
   "source": [
    "def load_skills(config):\n",
    "        \"\"\"\n",
    "        Loads skills from a taxonomy file into the instance, processes them based on configuration,\n",
    "        and creates a mapping of skills to integer indices.\n",
    "\n",
    "        The method reads a CSV file specified in the configuration and processes the skills\n",
    "        either by extracting unique values from the 'Type Level 3' column (if level_3 is True)\n",
    "        or using the 'unique_id' column (if level_3 is False). It populates `skills` with\n",
    "        a set of skills and `skills2int` with a dictionary mapping skills to integer indices.\n",
    "\n",
    "        Attributes Modified:\n",
    "            skills (set): A set of unique skill identifiers or level 3 types.\n",
    "            skills2int (dict): A dictionary mapping skill identifiers to integer indices.\n",
    "        \"\"\"\n",
    "        # load the skills from the taxonomy file\n",
    "        skills = pd.read_csv(os.path.join(\"../../\", config[\"taxonomy_path\"]))\n",
    "        display(skills.head(3))\n",
    "        print(\"\\n\")\n",
    "        print(skills.columns)\n",
    "        print(f\"Total skills :{len(skills)}\")\n",
    "        # if level_3 is true, we only use the level 3 of the skill taxonomy, then we need to get the unique values in column Type Level 3\n",
    "        ## Note: A single taxonomy skill may be shared across multiple skills. Using Level 3 taxonomy is preferred\n",
    "        # as it maintains effective skill categorization. Levels 1 or 2 are too broad, resulting in overly general domains.\n",
    "        if config[\"level_3\"]:\n",
    "            # get all the unique values in column Type Level 3\n",
    "            level2int = {\n",
    "                level: i for i, level in enumerate(skills[\"Type Level 3\"].unique())\n",
    "            }\n",
    "\n",
    "            # make a dict from column unique_id to column Type Level 3\n",
    "            skills_dict = dict(\n",
    "                zip(skills[\"unique_id\"], skills[\"Type Level 3\"])\n",
    "            )\n",
    "\n",
    "            # map skills_dict values to level2int\n",
    "            skills2int = {\n",
    "                key: level2int[value] for key, value in skills_dict.items()\n",
    "            }\n",
    "            skills = set(skills2int.values())\n",
    "            print(f\"total taxonomy skills :\",len(skills), \"\\n\")\n",
    "            #print(level2int) #output : software and applications development and analysis : 0\n",
    "            #print(skills_dict) #output : 1000: software and applications development and analysis\n",
    "            #print(skills2int) #output : 1000: 0\n",
    "            return skills,skills2int\n",
    "        # if level_3 is false, we use the unique_id column as the skills ~ no taxonomy levels\n",
    "        else:\n",
    "            skills = set(skills[\"unique_id\"])\n",
    "            skills2int = {skill: i for i, skill in enumerate(skills)}\n",
    "            #print(len(skills)) #output : 1794\n",
    "            #print(len(skills2int)) #output : 1794\n",
    "            return skills,skills2int"
   ]
  },
  {
   "cell_type": "code",
   "execution_count": 6,
   "id": "bd3fa8d9",
   "metadata": {},
   "outputs": [
    {
     "data": {
      "text/html": [
       "<div>\n",
       "<style scoped>\n",
       "    .dataframe tbody tr th:only-of-type {\n",
       "        vertical-align: middle;\n",
       "    }\n",
       "\n",
       "    .dataframe tbody tr th {\n",
       "        vertical-align: top;\n",
       "    }\n",
       "\n",
       "    .dataframe thead th {\n",
       "        text-align: right;\n",
       "    }\n",
       "</style>\n",
       "<table border=\"1\" class=\"dataframe\">\n",
       "  <thead>\n",
       "    <tr style=\"text-align: right;\">\n",
       "      <th></th>\n",
       "      <th>Unnamed: 0</th>\n",
       "      <th>Source</th>\n",
       "      <th>Type Level 4</th>\n",
       "      <th>altLabels</th>\n",
       "      <th>Definition</th>\n",
       "      <th>Dimension</th>\n",
       "      <th>Type Level 1</th>\n",
       "      <th>Type Level 2</th>\n",
       "      <th>Type Level 3</th>\n",
       "      <th>unique_id</th>\n",
       "      <th>name</th>\n",
       "      <th>name+definition</th>\n",
       "    </tr>\n",
       "  </thead>\n",
       "  <tbody>\n",
       "    <tr>\n",
       "      <th>0</th>\n",
       "      <td>0</td>\n",
       "      <td>http://data.europa.eu/esco/skill/000f1d3d-220f...</td>\n",
       "      <td>Haskell</td>\n",
       "      <td>Haskell</td>\n",
       "      <td>The techniques and principles of software deve...</td>\n",
       "      <td>knowledge</td>\n",
       "      <td>information and communication technologies (icts)</td>\n",
       "      <td>information and communication technologies (icts)</td>\n",
       "      <td>software and applications development and anal...</td>\n",
       "      <td>1000</td>\n",
       "      <td>Haskell</td>\n",
       "      <td>Haskell : the techniques and principles of sof...</td>\n",
       "    </tr>\n",
       "    <tr>\n",
       "      <th>1</th>\n",
       "      <td>2</td>\n",
       "      <td>http://data.europa.eu/esco/skill/0037c821-2898...</td>\n",
       "      <td>develop energy saving concepts</td>\n",
       "      <td>developing concepts for energy saving\\r\\ndevel...</td>\n",
       "      <td>Use current research results and collaborate w...</td>\n",
       "      <td>skills</td>\n",
       "      <td>management skills</td>\n",
       "      <td>developing objectives and strategies</td>\n",
       "      <td>developing operational policies and procedures</td>\n",
       "      <td>1001</td>\n",
       "      <td>develop energy saving concepts</td>\n",
       "      <td>develop energy saving concepts : use current r...</td>\n",
       "    </tr>\n",
       "    <tr>\n",
       "      <th>2</th>\n",
       "      <td>4</td>\n",
       "      <td>http://data.europa.eu/esco/skill/0058526a-11e9...</td>\n",
       "      <td>conduct research on flora</td>\n",
       "      <td>carry out research on flora\\r\\nflora research\\...</td>\n",
       "      <td>Collect and analyse data about plants in order...</td>\n",
       "      <td>skills</td>\n",
       "      <td>information skills</td>\n",
       "      <td>analysing and evaluating information and data</td>\n",
       "      <td>analysing scientific and medical data</td>\n",
       "      <td>1002</td>\n",
       "      <td>conduct research on flora</td>\n",
       "      <td>conduct research on flora : collect and analys...</td>\n",
       "    </tr>\n",
       "  </tbody>\n",
       "</table>\n",
       "</div>"
      ],
      "text/plain": [
       "   Unnamed: 0                                             Source  \\\n",
       "0           0  http://data.europa.eu/esco/skill/000f1d3d-220f...   \n",
       "1           2  http://data.europa.eu/esco/skill/0037c821-2898...   \n",
       "2           4  http://data.europa.eu/esco/skill/0058526a-11e9...   \n",
       "\n",
       "                     Type Level 4  \\\n",
       "0                         Haskell   \n",
       "1  develop energy saving concepts   \n",
       "2       conduct research on flora   \n",
       "\n",
       "                                           altLabels  \\\n",
       "0                                            Haskell   \n",
       "1  developing concepts for energy saving\\r\\ndevel...   \n",
       "2  carry out research on flora\\r\\nflora research\\...   \n",
       "\n",
       "                                          Definition  Dimension  \\\n",
       "0  The techniques and principles of software deve...  knowledge   \n",
       "1  Use current research results and collaborate w...     skills   \n",
       "2  Collect and analyse data about plants in order...     skills   \n",
       "\n",
       "                                        Type Level 1  \\\n",
       "0  information and communication technologies (icts)   \n",
       "1                                  management skills   \n",
       "2                                 information skills   \n",
       "\n",
       "                                        Type Level 2  \\\n",
       "0  information and communication technologies (icts)   \n",
       "1               developing objectives and strategies   \n",
       "2      analysing and evaluating information and data   \n",
       "\n",
       "                                        Type Level 3  unique_id  \\\n",
       "0  software and applications development and anal...       1000   \n",
       "1     developing operational policies and procedures       1001   \n",
       "2              analysing scientific and medical data       1002   \n",
       "\n",
       "                             name  \\\n",
       "0                         Haskell   \n",
       "1  develop energy saving concepts   \n",
       "2       conduct research on flora   \n",
       "\n",
       "                                     name+definition  \n",
       "0  Haskell : the techniques and principles of sof...  \n",
       "1  develop energy saving concepts : use current r...  \n",
       "2  conduct research on flora : collect and analys...  "
      ]
     },
     "metadata": {},
     "output_type": "display_data"
    },
    {
     "name": "stdout",
     "output_type": "stream",
     "text": [
      "\n",
      "\n",
      "Index(['Unnamed: 0', 'Source', 'Type Level 4', 'altLabels', 'Definition',\n",
      "       'Dimension', 'Type Level 1', 'Type Level 2', 'Type Level 3',\n",
      "       'unique_id', 'name', 'name+definition'],\n",
      "      dtype='object')\n",
      "Total skills :1794\n",
      "total taxonomy skills : 46 \n",
      "\n"
     ]
    }
   ],
   "source": [
    "skills,skills2int = load_skills(config=config)"
   ]
  },
  {
   "cell_type": "code",
   "execution_count": 7,
   "id": "2b87707a",
   "metadata": {},
   "outputs": [],
   "source": [
    "def load_mastery_levels(config):\n",
    "        \"\"\"Load the mastery levels from the file specified in the config and store it in the class attribute\"\"\"\n",
    "        mastery_levels = json.load(open(os.path.join(\"../../\", config[\"mastery_levels_path\"])))\n",
    "        print(mastery_levels)\n",
    "        return mastery_levels"
   ]
  },
  {
   "cell_type": "code",
   "execution_count": 8,
   "id": "383eec7e",
   "metadata": {},
   "outputs": [
    {
     "name": "stdout",
     "output_type": "stream",
     "text": [
      "{'beginner': 1, 'intermediate': 2, 'expert': 3, 'unknown': -1}\n"
     ]
    }
   ],
   "source": [
    "mastery_levels = load_mastery_levels(config)"
   ]
  },
  {
   "cell_type": "markdown",
   "id": "5743cc59-4b26-4d23-a851-1f7419b4406d",
   "metadata": {},
   "source": [
    "### Load courses, jobs, learners functions\n",
    "\n",
    "The functions described below compute matrices of individuals × skills, where each skill value is calculated as the average of mastery levels.\n",
    "\n",
    "When working with taxonomy level 3 (skill type 3), a single type 3 skill can be shared by multiple type 4 skills. Averaging helps maintain consistency across mappings."
   ]
  },
  {
   "cell_type": "code",
   "execution_count": 9,
   "id": "2746c006-d5a4-470e-85b4-cfb09cf84036",
   "metadata": {},
   "outputs": [],
   "source": [
    "def get_avg_skills(skill_list,skills2int,mastery_levels, replace_unk):\n",
    "        \"\"\"\n",
    "    Calculates the average mastery level for each skill in the provided skill list.\n",
    "\n",
    "        This function processes a list of skills, each with a corresponding mastery level, \n",
    "        and computes the average mastery level for each skill. The mastery levels are \n",
    "        adjusted if they are in string format and match a predefined set of mastery levels. \n",
    "        If a mastery level is not recognized, it is replaced with the specified `replace_unk` value. \n",
    "\n",
    "        The function assumes that a single skill may have multiple mastery levels associated with it, \n",
    "        and it calculates the average for each skill. The result is a dictionary where the key is \n",
    "        the integer index of the skill, and the value is the rounded average mastery level for that skill.\n",
    "\n",
    "    Parameters:\n",
    "        skill_list (list of tuples): A list where each element is a tuple containing:\n",
    "            - skill (str): The skill identifier.\n",
    "            - mastery_level (str or int): The mastery level of the skill, which could be a string (e.g., 'beginner', 'expert') or an int.\n",
    "        skills2int (dict): A dictionary mapping skill identifiers/ ID (str) to integer indices. (e.g., 1000: 0)\n",
    "        mastery_levels (dict): A dictionary mapping mastery level strings to integer values. (e.g., {'beginner': 1, 'intermediate': 2})\n",
    "        replace_unk (int): The value to replace any unknown mastery levels with (default is -1).\n",
    "\n",
    "    Returns:\n",
    "        dict: A dictionary where the keys are the integer taxonomy level 3 skill indices (from `skills2int`), \n",
    "              and the values are the rounded average mastery levels for each skill.\n",
    "        \"\"\"\n",
    "        avg_skills = defaultdict(list)\n",
    "        for skill, mastery_level in skill_list:\n",
    "            #eg. skill = 1024 , mastery_level = 'beginner'\n",
    "            # if the mastery level is a string and is in the mastery levels, we replace it with the corresponding value, otherwise we do nothing and continue to the next skill\n",
    "            if isinstance(mastery_level, str) and mastery_level in mastery_levels:\n",
    "                mastery_level = mastery_levels[mastery_level] #mapping to an integer\n",
    "                if mastery_level == -1:\n",
    "                    mastery_level = replace_unk\n",
    "                # mapping to an integer which is the id of taxonomy level\n",
    "                # Mapping skills type 4 of learners to type 3, \n",
    "                # so the number of skills may be less than or equal to the original number of skills\n",
    "                skill = skills2int[skill] \n",
    "                avg_skills[skill].append(mastery_level)\n",
    "        #print(avg_skills) #output :e.g  {4: [3, 1, 1, 1, 1, 1, 3, 3, 3, 3, 3, 1],...}\n",
    "        # we take the average of the mastery levels for each skill because on our dataset we can have multiple mastery levels for the same skill (taxonomy)\n",
    "        for skill in avg_skills.keys():\n",
    "            avg_skills[skill] = sum(avg_skills[skill]) / len(avg_skills[skill])\n",
    "            avg_skills[skill] = round(avg_skills[skill])\n",
    "\n",
    "        return avg_skills #output : e.g {4: 2, 28: 2,...}"
   ]
  },
  {
   "cell_type": "code",
   "execution_count": 10,
   "id": "90538004-c8b0-417c-9505-5e39b31019bb",
   "metadata": {},
   "outputs": [],
   "source": [
    "def load_learners(config, skills, skills2int,mastery_levels,replace_unk=1): \n",
    "        \"\"\"\n",
    "        Loads learners' skill proficiency data from a specified file and stores it in a numpy array,\n",
    "        where each learner's skills are represented by their proficiency levels.\n",
    "\n",
    "        This function reads the learner data from a JSON file, processes their skill proficiency levels,\n",
    "        and stores them in a numpy array. The proficiency levels are adjusted based on the mastery levels\n",
    "        provided, and unknown mastery levels are replaced with a specified value (`replace_unk`).\n",
    "\n",
    "        The function also ensures that only learners with a number of skills less than or equal to a specified\n",
    "        maximum (`max_cv_skills`) are considered. The numpy array is populated with each learner's skill proficiency levels,\n",
    "        with rows corresponding to learners and columns corresponding to skills.\n",
    "\n",
    "        Parameters:\n",
    "        config (dict): A configuration dictionary containing the following keys:\n",
    "            - \"cv_path\" (str): Path to the JSON file containing the learners' skill data.\n",
    "            - \"max_cv_skills\" (int): The maximum number of skills a learner can have. Learners with more skills are skipped.\n",
    "        skills (set): A set of skill identifiers (usually integer indices).\n",
    "        skills2int (dict): A dictionary mapping skill identifiers to integer indices.\n",
    "        mastery_levels (dict): A dictionary mapping mastery level strings (e.g., 'beginner', 'expert') to integer values.\n",
    "        replace_unk (int, optional): The value used to replace unknown mastery levels. Defaults to 1. (consider that learner is beginner)\n",
    "\n",
    "        Returns:\n",
    "        numpy.ndarray: A numpy array of shape (num_learners, num_skills) where each element represents\n",
    "                        the proficiency level of a learner for a particular skill.\n",
    "                        Learners with more skills than `max_cv_skills` are excluded.\n",
    "        \"\"\"\n",
    "        learners = json.load(open(os.path.join(\"../../\", config[\"cv_path\"])))\n",
    "        #display(learners)  #output:'36856210': [[1024, 'expert'],[2017, 'expert'],...],\n",
    "        #print(len(learners)) #output: 238 (total learners)\n",
    "        max_learner_skills = config[\"max_cv_skills\"]\n",
    "        learners_index = dict()\n",
    "\n",
    "        # numpy array to store the learners skill proficiency levels with default value 0\n",
    "        # learners_array correspond to self.learners in POO\n",
    "        learners_array = np.zeros((len(learners), len(skills)), dtype=int)\n",
    "        index = 0\n",
    "\n",
    "        # fill the numpy array with the learners skill proficiency levels from the json file\n",
    "        for learner_id, learner in learners.items():\n",
    "            #eg. learner_id = 36856210 , learner = [[1024, 'expert'],[2017, 'expert'],...]\n",
    "            ## Note that: the number of skills of learner after apply this function is < or = the original\n",
    "            avg_learner = get_avg_skills(learner,skills2int,mastery_levels, replace_unk)\n",
    "\n",
    "            # if the number of skills is greater than the max_learner_skills, we skip the learner\n",
    "            if len(avg_learner) > max_learner_skills:\n",
    "                continue #donc index isnt counted\n",
    "\n",
    "            # we fill the numpy array with the averaged mastery levels\n",
    "            for skill, level in avg_learner.items():\n",
    "                #e.g skill = 4 (taxo skill lv3) , level = 2 (avg mastery level)\n",
    "                learners_array[index][skill] = level\n",
    "\n",
    "            learners_index[index] = learner_id\n",
    "            learners_index[learner_id] = index #??????? no interest, double the number of learners\n",
    "\n",
    "            index += 1\n",
    "        #print(len(learners_index))\n",
    "        print(learners_index)\n",
    "        print(\"\\nlearners_array before update\")\n",
    "        print(f\"shape:({learners_array.shape[0]} learners, {learners_array.shape[1]} skills)\")\n",
    "        print(learners_array)\n",
    "    \n",
    "        # we update the learners numpy array with the correct number of rows ( condition < or = 15 skills)\n",
    "        learners_array = learners_array[:index]\n",
    "        print(\"\\nlearners_array after update\")\n",
    "        print(f\"shape:({learners_array.shape[0]} learners, {learners_array.shape[1]} skills)\")\n",
    "        print(learners_array)\n",
    "        return learners_array, learners_index"
   ]
  },
  {
   "cell_type": "code",
   "execution_count": 11,
   "id": "9fe1363d-974f-4517-963d-1c81f6c02561",
   "metadata": {},
   "outputs": [
    {
     "name": "stdout",
     "output_type": "stream",
     "text": [
      "{0: '10839851', '10839851': 0, 1: '39718499', '39718499': 1, 2: '321', '321': 2, 3: '322', '322': 3, 4: '324', '324': 4, 5: '325', '325': 5, 6: '326', '326': 6, 7: '3243', '3243': 7, 8: '3285', '3285': 8, 9: '3286', '3286': 9, 10: '3289', '3289': 10, 11: '32125', '32125': 11, 12: '32128', '32128': 12, 13: '32129', '32129': 13, 14: '32130', '32130': 14, 15: '32131', '32131': 15, 16: '32133', '32133': 16, 17: '32134', '32134': 17, 18: '32135', '32135': 18, 19: '32137', '32137': 19, 20: '32138', '32138': 20, 21: '32209', '32209': 21, 22: '32213', '32213': 22, 23: '32214', '32214': 23, 24: '32240', '32240': 24, 25: '32242', '32242': 25, 26: '32267', '32267': 26, 27: '32328', '32328': 27, 28: '32329', '32329': 28, 29: '32332', '32332': 29, 30: '32376', '32376': 30, 31: '32380', '32380': 31, 32: '32430', '32430': 32, 33: '32433', '32433': 33, 34: '32489', '32489': 34, 35: '32493', '32493': 35, 36: '32519', '32519': 36, 37: '32523', '32523': 37, 38: '32564', '32564': 38, 39: '32600', '32600': 39, 40: '32601', '32601': 40, 41: '32603', '32603': 41, 42: '32604', '32604': 42, 43: '32606', '32606': 43, 44: '32628', '32628': 44, 45: '32629', '32629': 45, 46: '32631', '32631': 46, 47: '32632', '32632': 47, 48: '32668', '32668': 48, 49: '32669', '32669': 49, 50: '32673', '32673': 50, 51: '32674', '32674': 51}\n",
      "\n",
      "learners_array before update\n",
      "shape:(238 learners, 46 skills)\n",
      "[[2 2 0 ... 0 0 0]\n",
      " [0 2 0 ... 0 0 3]\n",
      " [1 0 0 ... 0 0 0]\n",
      " ...\n",
      " [0 0 0 ... 0 0 0]\n",
      " [0 0 0 ... 0 0 0]\n",
      " [0 0 0 ... 0 0 0]]\n",
      "\n",
      "learners_array after update\n",
      "shape:(52 learners, 46 skills)\n",
      "[[2 2 0 ... 0 0 0]\n",
      " [0 2 0 ... 0 0 3]\n",
      " [1 0 0 ... 0 0 0]\n",
      " ...\n",
      " [1 1 0 ... 0 0 0]\n",
      " [2 2 0 ... 0 0 0]\n",
      " [1 2 0 ... 0 0 0]]\n"
     ]
    }
   ],
   "source": [
    "learners_array, learners_index = load_learners(config,skills,skills2int,mastery_levels)"
   ]
  },
  {
   "cell_type": "code",
   "execution_count": 12,
   "id": "25558c44-3d11-46c1-9920-4a454bd21aab",
   "metadata": {},
   "outputs": [
    {
     "name": "stdout",
     "output_type": "stream",
     "text": [
      "nb of skills type 4 of learner 325:  11\n",
      "[[1029, 'beginner'], [2422, 'intermediate'], [2348, 'intermediate'], [2142, 'intermediate'], [1072, 'intermediate'], [1414, 'intermediate'], [2441, 'intermediate'], [1065, 'unknown'], [2721, 'beginner'], [2516, 'beginner'], [1727, 'beginner']] \n",
      "\n",
      "nb of skills type 3 of learner 10839851: 14\n",
      "\n",
      "nb of skills type 3 of learner 325: 8\n",
      "\n",
      "defaultdict(<class 'list'>, {0: 2, 7: 2, 24: 2, 19: 2, 14: 1, 25: 1, 1: 1, 18: 1})\n",
      "{'10839851': defaultdict(<class 'list'>, {4: 1, 36: 2, 0: 2, 8: 1, 33: 1, 19: 2, 5: 1, 9: 2, 14: 1, 1: 2, 28: 1, 37: 1, 26: 2, 27: 2}), '325': defaultdict(<class 'list'>, {0: 2, 7: 2, 24: 2, 19: 2, 14: 1, 25: 1, 1: 1, 18: 1})}\n"
     ]
    }
   ],
   "source": [
    "learners = json.load(open(os.path.join(\"../../\", config[\"cv_path\"])))\n",
    "print(\"nb of skills type 4 of learner 325: \", len(learners[\"325\"]))\n",
    "print(learners[\"325\"], \"\\n\") \n",
    "      \n",
    "learner_ids = [\"10839851\", \"325\"] #check the learner with id 0 and id 5 in learners_index\n",
    "all_avg_skills = {}\n",
    "\n",
    "for learner_id in learner_ids:\n",
    "    avg_skills = get_avg_skills(learners[learner_id], skills2int, mastery_levels, replace_unk=1)\n",
    "    print(f\"nb of skills type 3 of learner {learner_id}: {len(avg_skills)}\\n\")\n",
    "    all_avg_skills[learner_id] = avg_skills\n",
    "\n",
    "print(avg_skills)\n",
    "print(all_avg_skills)"
   ]
  },
  {
   "cell_type": "markdown",
   "id": "d2b22127-e185-400c-afe1-fc71a2754302",
   "metadata": {},
   "source": [
    "#### Confirm that `learners_array` reflects the correct mapping: rows correspond to learners, and the first column represents skill type 3 with id 1. There should be a total of 46 type 3 skills."
   ]
  },
  {
   "cell_type": "code",
   "execution_count": 13,
   "id": "0d88131a-801e-4466-8081-ccadc9c3025a",
   "metadata": {},
   "outputs": [],
   "source": [
    "def load_jobs(config, skills,skills2int, mastery_levels ,replace_unk=3):\n",
    "        \"\"\"Load the jobs from the file specified in the config and store it in the class attribute\n",
    "\n",
    "        Args:\n",
    "            replace_unk (int, optional): The value to replace the unknown mastery levels. Defaults to 3. (consider that the required skill level is expert)\n",
    "        \"\"\"\n",
    "        jobs = json.load(open(os.path.join(\"../../\", config[\"job_path\"])))\n",
    "        #print(len(jobs)) total jobs = 3587\n",
    "        #print(jobs)   #output : {'15': [[1142, 'unknown'], [1094, 'unknown'],...],'4976': [[1032, 'expert'],...]\n",
    "        \n",
    "        # numpy array to store the job skill proficiency levels with default value 0\n",
    "        # jobs_array correspond to self.jobs in POO\n",
    "        jobs_array = np.zeros((len(jobs), len(skills)), dtype=int)\n",
    "        jobs_index = dict()\n",
    "        index = 0\n",
    "\n",
    "        \n",
    "        for job_id, job in jobs.items():\n",
    "            jobs_index[index] = job_id\n",
    "            jobs_index[job_id] = index\n",
    "            avg_job = get_avg_skills(job, skills2int, mastery_levels ,replace_unk)\n",
    "\n",
    "            for skill, level in avg_job.items():\n",
    "                jobs_array[index][skill] = level\n",
    "            index += 1\n",
    "        print(jobs_array)\n",
    "        print(f\"\\nshape:({jobs_array.shape[0]} jobs, {jobs_array.shape[1]} skills)\")\n",
    "        #print(jobs_index) #output : {0: '15', '15': 0, 1: '16', '16': 1,...}\n",
    "\n",
    "        return jobs_array, jobs_index"
   ]
  },
  {
   "cell_type": "code",
   "execution_count": 14,
   "id": "b65f11e0-4196-4715-9e20-b4d671aeaf39",
   "metadata": {},
   "outputs": [
    {
     "name": "stdout",
     "output_type": "stream",
     "text": [
      "[[2 0 0 ... 0 0 0]\n",
      " [2 3 0 ... 0 3 0]\n",
      " [3 2 0 ... 0 0 0]\n",
      " ...\n",
      " [3 0 0 ... 0 0 0]\n",
      " [3 3 0 ... 0 0 0]\n",
      " [0 0 0 ... 0 0 0]]\n",
      "\n",
      "shape:(3587 jobs, 46 skills)\n"
     ]
    }
   ],
   "source": [
    "jobs_array,jobs_index = load_jobs(config, skills,skills2int, mastery_levels ,replace_unk=3)"
   ]
  },
  {
   "cell_type": "code",
   "execution_count": 15,
   "id": "21d92feb-4c85-4539-8f05-6e7d217308c5",
   "metadata": {},
   "outputs": [],
   "source": [
    "def load_courses(config,skills,skills2int, mastery_levels, replace_unk=2):\n",
    "        \"\"\"\n",
    "    Loads course-related data and encodes it into a structured array format.\n",
    "\n",
    "    The function parses a course dataset defined in the configuration. Each course may have:\n",
    "    - Required skills (\"required\")\n",
    "    - Skills to be acquired after the course (\"to_acquire\")\n",
    "\n",
    "    Skills are mapped to integer IDs based on the taxonomy, and mastery levels are standardized \n",
    "    using a predefined mapping. If a level is unknown or unrecognized, a default value is used.\n",
    "\n",
    "    The output is a 3D numpy array with:\n",
    "        - Axis 0: individual courses\n",
    "        - Axis 1: type of skill (0 = required, 1 = to acquire)\n",
    "        - Axis 2: encoded skill taxonomy (based on skills2int)\n",
    "\n",
    "    Args:\n",
    "        config (dict): Configuration dictionary containing the course file path.\n",
    "        skills (set): A set of skill identifiers used as reference for array dimensions.\n",
    "        skills2int (dict): Mapping from skill unique IDs to taxonomy-level integer indices.\n",
    "        mastery_levels (dict): Mapping of mastery level labels (e.g. 'beginner') to integers.\n",
    "        replace_unk (int, optional): Default value used for unknown skill levels (default is 2).\n",
    "\n",
    "    Returns:\n",
    "        tuple: \n",
    "            - courses_array (np.ndarray): Structured array of shape (n_courses, 2, n_skills).\n",
    "            - courses_index (dict): Mapping between course IDs and internal indices.\n",
    "        \"\"\"\n",
    "        courses = json.load(open(os.path.join(\"../../\", config[\"course_path\"])))\n",
    "        #print(courses) #ouput : {'11475': {'required': [[1692, 'beginner'],...],'to_acquire': [[1072, 'beginner'],..]}, ...}\n",
    "        #print(len(courses))   #output : 3000\n",
    "\n",
    "        # numpy array to store the courses skill proficiency levels with default value 0\n",
    "        # courses_array correspond to self.courses in POO\n",
    "        courses_array = np.zeros((len(courses), 2, len(skills)), dtype=int)\n",
    "        courses_index = dict()\n",
    "        index = 0\n",
    "        for course_id, course in courses.items():\n",
    "            # if the course does not provide any skills, we skip it\n",
    "            if \"to_acquire\" not in course:\n",
    "                continue\n",
    "\n",
    "            courses_index[course_id] = index\n",
    "            courses_index[index] = course_id\n",
    "\n",
    "            avg_provided = get_avg_skills(course[\"to_acquire\"],skills2int, mastery_levels, replace_unk)\n",
    "            for skill, level in avg_provided.items():\n",
    "                courses_array[index][1][skill] = level\n",
    "\n",
    "            if \"required\" in course:\n",
    "                avg_required = get_avg_skills(course[\"required\"],skills2int, mastery_levels, replace_unk)\n",
    "                for skill, level in avg_required.items():\n",
    "                    courses_array[index][0][skill] = level\n",
    "\n",
    "            index += 1\n",
    "        # update the courses numpy array with the correct number of rows\n",
    "        courses_array = courses_array[:index]\n",
    "        #print(courses_array)\n",
    "        print(f\"\\nshape: {courses_array.shape[0]} x {courses_array.shape[1]} x {courses_array.shape[2]} (courses x required/provided x skills)\")\n",
    "\n",
    "\n",
    "        return courses_array, courses_index"
   ]
  },
  {
   "cell_type": "code",
   "execution_count": 16,
   "id": "6835b486-812a-4dcc-a6a1-0d73bb2d4c68",
   "metadata": {},
   "outputs": [
    {
     "name": "stdout",
     "output_type": "stream",
     "text": [
      "\n",
      "shape: 3000 x 2 x 46 (courses x required/provided x skills)\n"
     ]
    }
   ],
   "source": [
    "courses_array, courses_index=load_courses(config,skills,skills2int, mastery_levels, replace_unk=2)"
   ]
  },
  {
   "cell_type": "markdown",
   "id": "409f2a7b-23b9-4c75-a87c-2be25eb57df1",
   "metadata": {},
   "source": [
    "eg : \n",
    "```python\n",
    "courses_array = [\n",
    "  [  # Course 0\n",
    "    [1, 0, 0, ..., 0],   # index 0: required skills (dim :46)\n",
    "    [0, 2, 0, ..., 0]    # index 1: provided skills\n",
    "  ],\n",
    "  [  # Course 1\n",
    "    [0, 0, 0, ..., 0],\n",
    "    [3, 0, 0, ..., 1]\n",
    "  ],\n",
    "  ...\n",
    "]\n",
    "```"
   ]
  },
  {
   "cell_type": "code",
   "execution_count": 17,
   "id": "268a6866-7243-4c3a-8a22-55e833abff97",
   "metadata": {},
   "outputs": [],
   "source": [
    "def get_subsample(config, learners_array, learners_index, jobs_array, jobs_index, courses_array,courses_index):\n",
    "        \"\"\"\n",
    "       Randomly subsample learners, jobs, and courses based on config settings.\n",
    "\n",
    "    Uses fixed seed to ensure reproducibility. If the number of desired learners, jobs,\n",
    "    or courses is specified (non -1), it selects a random subset of the corresponding arrays\n",
    "    and reindexes the index mappings accordingly.\n",
    "\n",
    "    Args:\n",
    "        config (dict): Configuration with subsample sizes and random seed.\n",
    "        learners_array (np.ndarray): Matrix of learners × skills.\n",
    "        learners_index (dict): Index mapping between array row and learner ID.\n",
    "        jobs_array (np.ndarray): Matrix of jobs × skills.\n",
    "        jobs_index (dict): Index mapping between array row and job ID.\n",
    "        courses_array (np.ndarray): 3D array [course][required/provided][skill].\n",
    "        courses_index (dict): Index mapping between array row and course ID.\n",
    "\n",
    "    Returns:\n",
    "        tuple: Subsampled arrays and updated index mappings.\n",
    "        \"\"\"\n",
    "        random.seed(config[\"seed\"])\n",
    "        if config[\"nb_cvs\"] != -1:\n",
    "            # get a random sample of self.config[\"nb_cvs\"] of ids from 0 to len(self.learners)\n",
    "            learners_ids = random.sample(\n",
    "                range(len(learners_array)), config[\"nb_cvs\"]\n",
    "            )\n",
    "            # update the learners numpy array and the learners_index dictionary with the sampled ids\n",
    "            learners_array = learners_array[learners_ids]\n",
    "            learners_index = {\n",
    "                i: learners_index[index] for i, index in enumerate(learners_ids)\n",
    "            }\n",
    "            learners_index.update({v: k for k, v in learners_index.items()})\n",
    "        if config[\"nb_jobs\"] != -1:\n",
    "            jobs_ids = random.sample(range(len(jobs_array)), config[\"nb_jobs\"])\n",
    "            jobs_array = jobs_array[jobs_ids]\n",
    "            jobs_index = {\n",
    "                i: jobs_index[index] for i, index in enumerate(jobs_ids)\n",
    "            }\n",
    "            jobs_index.update({v: k for k, v in jobs_index.items()})\n",
    "        if config[\"nb_courses\"] != -1:\n",
    "            courses_ids = random.sample(\n",
    "                range(len(courses_array)), config[\"nb_courses\"]\n",
    "            )\n",
    "            courses_array = courses_array[courses_ids]\n",
    "            courses_index = {\n",
    "                i: courses_index[index] for i, index in enumerate(courses_ids)\n",
    "            }\n",
    "            courses_index.update({v: k for k, v in courses_index.items()})\n",
    "\n",
    "        return learners_array, learners_index, jobs_array, jobs_index, courses_array,courses_index"
   ]
  },
  {
   "cell_type": "code",
   "execution_count": 18,
   "id": "c12eac3c-3ed1-4daf-b5be-0b095acf3ecd",
   "metadata": {},
   "outputs": [
    {
     "name": "stdout",
     "output_type": "stream",
     "text": [
      "=== Learners ===\n",
      "Learners array shape: (52, 46)\n",
      "Number of learners in index: 52\n",
      "\n",
      "=== Jobs ===\n",
      "Jobs array shape: (100, 46)\n",
      "Number of jobs in index: 100\n",
      "\n",
      "=== Courses ===\n",
      "Courses array shape: (100, 2, 46)\n",
      "Number of courses in index: 100\n"
     ]
    }
   ],
   "source": [
    "learners_array, learners_index, jobs_array, jobs_index, courses_array,courses_index = get_subsample(config, learners_array, learners_index, jobs_array, jobs_index, courses_array,courses_index)\n",
    "print(\"=== Learners ===\")\n",
    "print(\"Learners array shape:\", learners_array.shape)  # (num_learners, num_skills)\n",
    "print(\"Number of learners in index:\", len(learners_index) // 2)  # divise by 2 because id -> index và index -> id (structure)\n",
    "\n",
    "print(\"\\n=== Jobs ===\")\n",
    "print(\"Jobs array shape:\", jobs_array.shape)  # (num_jobs, num_skills)\n",
    "print(\"Number of jobs in index:\", len(jobs_index) // 2)\n",
    "\n",
    "print(\"\\n=== Courses ===\")\n",
    "print(\"Courses array shape:\", courses_array.shape)  # (num_courses, 2, num_skills)\n",
    "print(\"Number of courses in index:\", len(courses_index) // 2)\n"
   ]
  },
  {
   "cell_type": "code",
   "execution_count": 19,
   "id": "e120372b-0453-4380-bbb9-f10bc091f1c2",
   "metadata": {},
   "outputs": [],
   "source": [
    "def make_course_consistent(skills,courses_array):\n",
    "        \"\"\"\n",
    "    Adjust course consistency by ensuring a course doesn't require a skill\n",
    "    at the same or lower level than it provides.\n",
    "\n",
    "    For each course:\n",
    "        - If a skill is both required and provided:\n",
    "            - And provided_level <= required_level:\n",
    "                - Reduce the required level accordingly (or remove it if too low).\n",
    "\n",
    "    Args:\n",
    "        skills (list): List of all skill identifiers.\n",
    "        courses_array (np.ndarray): Array of shape [num_courses, 2, num_skills],\n",
    "            where index 0 = required skills, index 1 = provided skills.\n",
    "        \"\"\"\n",
    "        for course in courses_array: \n",
    "            for skill_id in range(len(skills)):  # Loop through each skill in the course\n",
    "                required_level = course[0][skill_id]  # Get the required level for the skill\n",
    "                provided_level = course[1][skill_id]  # Get the provided level for the skill\n",
    "        \n",
    "                if provided_level != 0 and provided_level <= required_level:  \n",
    "                   if provided_level == 1:  #the most basic level\n",
    "                      course[0][skill_id] = 0  # Set the required level to 0, meaning this skill is no longer required\n",
    "                   else:  # >1\n",
    "                      course[0][skill_id] = provided_level - 1  # Decrease the required level by 1 to avoid conflict with the provided level\n"
   ]
  },
  {
   "cell_type": "code",
   "execution_count": 20,
   "id": "535ceddb-8033-47ef-a431-14dba4534ae1",
   "metadata": {},
   "outputs": [],
   "source": [
    "# # Print the first course before making it consistent\n",
    "# print(\"Initial course (required vs provided):\")\n",
    "# course = courses_array[8]  #first course \n",
    "# print(f\"Course 0:\")\n",
    "# print(f\"  Required: {course[0]}\")\n",
    "# print(f\"  Provided: {course[1]}\")\n",
    "\n",
    "# # Make the course consistent\n",
    "# make_course_consistent(skills, courses_array)\n",
    "\n",
    "# # Print the first course after making it consistent\n",
    "# print(\"\\nUpdated course (required vs provided):\")\n",
    "# course = courses_array[8]  #first course\n",
    "# print(f\"Course 0:\")\n",
    "# print(f\"  Required: {course[0]}\")\n",
    "# print(f\"  Provided: {course[1]}\")"
   ]
  },
  {
   "cell_type": "code",
   "execution_count": 21,
   "id": "72ab8840-ac16-4603-9e7c-d3301e0b521f",
   "metadata": {},
   "outputs": [],
   "source": [
    "def get_jobs_inverted_index(jobs_array):\n",
    "    \"\"\"\n",
    "    Create an inverted index for jobs based on the required skill levels.\n",
    "\n",
    "    The function generates a mapping where each skill (represented by its index) \n",
    "    is associated with a set of job indices that require this skill. The level \n",
    "    of the skill is considered, so only skills with a level greater than 0 \n",
    "    are included in the inverted index.\n",
    "\n",
    "    Args:\n",
    "        jobs_array (np.ndarray): A 2D array where each row represents a job \n",
    "                                  and each column represents a skill. The \n",
    "                                  value at each position (i, j) represents \n",
    "                                  the skill level for job i and skill j. \n",
    "\n",
    "    Returns:\n",
    "        dict: A dictionary (`jobs_inverted_index`) where each key is a skill \n",
    "              (represented by the skill index) and each value is a set of job \n",
    "              indices that require this skill.\n",
    "              \n",
    "    Example:\n",
    "        jobs_array = [\n",
    "            [1, 0, 0],  # Job 0 requires skill 0 at level 1\n",
    "            [0, 2, 0],  # Job 1 requires skill 1 at level 2\n",
    "            [0, 0, 3]   # Job 2 requires skill 2 at level 3\n",
    "        ]\n",
    "        \n",
    "        get_jobs_inverted_index(jobs_array)\n",
    "        # Returns: \n",
    "        # {0: {0}, 1: {1}, 2: {2}} \n",
    "        # (Skill 0 is required by job 0, Skill 1 is required by job 1, and Skill 2 is required by job 2)\n",
    "    \"\"\"\n",
    "    jobs_inverted_index = defaultdict(set)\n",
    "    for i, job in enumerate(jobs_array):\n",
    "        for skill, level in enumerate(job):\n",
    "            if level > 0:  # Only consider skills with a level greater than 0\n",
    "                jobs_inverted_index[skill].add(i)\n",
    "    \n",
    "    return jobs_inverted_index"
   ]
  },
  {
   "cell_type": "code",
   "execution_count": 22,
   "id": "0ef97adb-201a-4b2a-8f02-b0f3eb3c85bb",
   "metadata": {},
   "outputs": [],
   "source": [
    "jobs_inverted_index = get_jobs_inverted_index(jobs_array)"
   ]
  },
  {
   "cell_type": "code",
   "execution_count": 23,
   "id": "1c2243dd-decd-4e33-96d8-200e4558be53",
   "metadata": {},
   "outputs": [],
   "source": [
    "import sys\n",
    "sys.path.append(os.path.abspath('../jcrec')) \n",
    "from matchings import*"
   ]
  },
  {
   "cell_type": "code",
   "execution_count": 24,
   "id": "e1874b9f-9650-431a-8f33-a0a475e6efbf",
   "metadata": {},
   "outputs": [],
   "source": [
    "def get_nb_applicable_jobs(learner, jobs_array,jobs_inverted_index, threshold):\n",
    "    \"\"\"Get the number of applicable jobs for a learner\n",
    "\n",
    "    Args:\n",
    "        learner (list): A list of skills and mastery levels for the learner. \n",
    "                        The length of the list corresponds to the number of skills, \n",
    "                        and the values represent the mastery level for each skill.\n",
    "        threshold (float): The threshold value for the matching. \n",
    "                           Only jobs that meet or exceed this threshold will be considered applicable.\n",
    "\n",
    "    Returns:\n",
    "        int: The total number of jobs that match the learner's skills at or above the given threshold.\n",
    "    \"\"\"\n",
    "    nb_applicable_jobs = 0  # Initialize the count of applicable job\n",
    "    jobs_subset = set()  # Initialize a set to store jobs that match the learner's skills\n",
    "\n",
    "    # Get the indices of the skills where the learner has a non-zero mastery level (knowledge base of learner)\n",
    "    skills = np.nonzero(learner)[0] \n",
    "    #output eg. first learner : array([ 0,  1,  4,  5,  8,  9, 14, 19, 26, 27, 28, 33, 36, 37], dtype=int64)\n",
    "\n",
    "    # This loop collects all distinct jobs that require at least one of the learner's skills \n",
    "    for skill in skills:\n",
    "        if skill in jobs_inverted_index:  # Check if the skill is required by any jobs\n",
    "           jobs_subset.update(jobs_inverted_index[skill])  # Add the elements (jobs) that require this skill to the jobs_subset\n",
    "\n",
    "    # Then, match the learner against each job; if the matching score exceeds the threshold, count it as an applicable job\n",
    "    for job_id in jobs_subset:\n",
    "        matching = learner_job_matching(learner, jobs_array[job_id])  # Calculate the matching score for the job\n",
    "        if matching >= threshold:  # If the matching score is above or equal to the threshold, the job is applicable\n",
    "           nb_applicable_jobs += 1  # Increment the count of applicable jobs\n",
    "\n",
    "    return nb_applicable_jobs"
   ]
  },
  {
   "cell_type": "code",
   "execution_count": 25,
   "id": "65983ffc-54cc-4a2a-aabd-07a8cdefc413",
   "metadata": {},
   "outputs": [
    {
     "name": "stdout",
     "output_type": "stream",
     "text": [
      "\n",
      "Learner 0 - Applicable jobs (threshold 0.1): 100\n",
      "Learner 0 - Applicable jobs (threshold 0.8): 0\n",
      "\n",
      "Learner 1 - Applicable jobs (threshold 0.1): 95\n",
      "Learner 1 - Applicable jobs (threshold 0.8): 0\n",
      "\n",
      "Learner 2 - Applicable jobs (threshold 0.1): 96\n",
      "Learner 2 - Applicable jobs (threshold 0.8): 0\n",
      "\n",
      "Learner 3 - Applicable jobs (threshold 0.1): 100\n",
      "Learner 3 - Applicable jobs (threshold 0.8): 0\n",
      "\n",
      "Learner 4 - Applicable jobs (threshold 0.1): 5\n",
      "Learner 4 - Applicable jobs (threshold 0.8): 0\n",
      "\n",
      "Learner 5 - Applicable jobs (threshold 0.1): 91\n",
      "Learner 5 - Applicable jobs (threshold 0.8): 0\n",
      "\n",
      "Learner 6 - Applicable jobs (threshold 0.1): 100\n",
      "Learner 6 - Applicable jobs (threshold 0.8): 1\n",
      "\n",
      "Learner 7 - Applicable jobs (threshold 0.1): 26\n",
      "Learner 7 - Applicable jobs (threshold 0.8): 0\n",
      "\n",
      "Learner 8 - Applicable jobs (threshold 0.1): 47\n",
      "Learner 8 - Applicable jobs (threshold 0.8): 0\n",
      "\n",
      "Learner 9 - Applicable jobs (threshold 0.1): 100\n",
      "Learner 9 - Applicable jobs (threshold 0.8): 0\n"
     ]
    }
   ],
   "source": [
    "for i in range(10):  # nb applicable jobs for the first 10 learners\n",
    "    applicable_jobs_low = get_nb_applicable_jobs(learners_array[i], jobs_array, jobs_inverted_index, 0.1)\n",
    "    print(f\"\\nLearner {i} - Applicable jobs (threshold 0.1): {applicable_jobs_low}\")\n",
    "\n",
    "    applicable_jobs_high = get_nb_applicable_jobs(learners_array[i], jobs_array, jobs_inverted_index, 0.8)\n",
    "    print(f\"Learner {i} - Applicable jobs (threshold 0.8): {applicable_jobs_high}\")"
   ]
  },
  {
   "cell_type": "code",
   "execution_count": 26,
   "id": "ddd34045-909e-4f0d-ba6e-54be7ec34903",
   "metadata": {},
   "outputs": [
    {
     "data": {
      "text/plain": [
       "0.16666666666666666"
      ]
     },
     "execution_count": 26,
     "metadata": {},
     "output_type": "execute_result"
    }
   ],
   "source": [
    "matching(learners_array[0],jobs_array[0]) # not matched"
   ]
  },
  {
   "cell_type": "code",
   "execution_count": 27,
   "id": "d0b790fc-ab90-4233-b0c0-c3b8b0a61abd",
   "metadata": {},
   "outputs": [
    {
     "data": {
      "text/plain": [
       "array([2, 2, 0, 0, 1, 1, 0, 0, 1, 0, 0, 0, 0, 0, 1, 0, 0, 0, 0, 0, 0, 0,\n",
       "       0, 0, 0, 0, 0, 0, 0, 0, 0, 0, 0, 0, 0, 0, 0, 1, 0, 0, 0, 0, 0, 0,\n",
       "       0, 0])"
      ]
     },
     "execution_count": 27,
     "metadata": {},
     "output_type": "execute_result"
    }
   ],
   "source": [
    "np.minimum(learners_array[0],jobs_array[0])"
   ]
  },
  {
   "cell_type": "code",
   "execution_count": 28,
   "id": "e4b38830-3bbb-4c27-b636-5d693f87107a",
   "metadata": {},
   "outputs": [
    {
     "name": "stdout",
     "output_type": "stream",
     "text": [
      "[[2 2 0 ... 0 0 0]\n",
      " [0 2 0 ... 0 0 3]\n",
      " [1 0 0 ... 0 0 0]\n",
      " ...\n",
      " [1 1 0 ... 0 0 0]\n",
      " [2 2 0 ... 0 0 0]\n",
      " [1 2 0 ... 0 0 0]]\n",
      "[[3 3 0 ... 0 0 0]\n",
      " [2 3 0 ... 0 0 0]\n",
      " [3 3 3 ... 0 0 0]\n",
      " ...\n",
      " [2 3 0 ... 0 3 0]\n",
      " [2 3 3 ... 0 0 0]\n",
      " [2 3 2 ... 0 0 0]]\n"
     ]
    }
   ],
   "source": [
    "print(learners_array)\n",
    "print(jobs_array)"
   ]
  },
  {
   "cell_type": "code",
   "execution_count": 29,
   "id": "2550674f-b547-46a0-b58f-493171c32241",
   "metadata": {},
   "outputs": [],
   "source": [
    "def get_avg_applicable_jobs(learners_array,threshold):\n",
    "        \"\"\"Get the average number of applicable jobs for all the learners\n",
    "\n",
    "        Args:\n",
    "            threshold (float): the threshold for the matching\n",
    "\n",
    "        Returns:\n",
    "            float: the average number of applicable jobs\n",
    "        \"\"\"\n",
    "        avg_applicable_jobs = 0\n",
    "        for learner in learners_array:\n",
    "            avg_applicable_jobs += get_nb_applicable_jobs(learner, jobs_array, jobs_inverted_index, threshold)\n",
    "        avg_applicable_jobs /= len(learners_array)\n",
    "        return avg_applicable_jobs"
   ]
  },
  {
   "cell_type": "code",
   "execution_count": 30,
   "id": "c52f4d9c-48fa-4c48-a25f-53c4e815abc6",
   "metadata": {},
   "outputs": [
    {
     "name": "stdout",
     "output_type": "stream",
     "text": [
      "0.09615384615384616\n"
     ]
    }
   ],
   "source": [
    "avg_applicable_jobs = get_avg_applicable_jobs(learners_array,0.8)\n",
    "print(avg_applicable_jobs)"
   ]
  },
  {
   "cell_type": "code",
   "execution_count": 31,
   "id": "63124db2-5f22-4e9d-8cb5-bd25805635c2",
   "metadata": {},
   "outputs": [],
   "source": [
    "def get_all_enrollable_courses(learner, courses_array, threshold):\n",
    "        \"\"\"Get all the enrollable courses for a learner\n",
    "\n",
    "        Args:\n",
    "            learner (list): list of skills and mastery level of the learner\n",
    "            threshold (float): the threshold for the matching\n",
    "\n",
    "        Returns:\n",
    "            dict: dictionary of enrollable courses\n",
    "        \"\"\"\n",
    "        enrollable_courses = {}\n",
    "        for i, course in enumerate(courses_array):\n",
    "            required_matching = learner_course_required_matching(\n",
    "                learner, course\n",
    "            )\n",
    "            provided_matching = learner_course_provided_matching(\n",
    "                learner, course\n",
    "            )\n",
    "            if required_matching >= threshold and provided_matching < 1.0:\n",
    "                enrollable_courses[i] = course\n",
    "        return enrollable_courses"
   ]
  },
  {
   "cell_type": "code",
   "execution_count": 32,
   "id": "771928db-1457-4666-86ca-895bfa5b56af",
   "metadata": {},
   "outputs": [
    {
     "name": "stdout",
     "output_type": "stream",
     "text": [
      "{0: array([[0, 0, 0, 0, 0, 0, 0, 0, 0, 0, 0, 0, 0, 0, 0, 0, 0, 0, 0, 1, 0, 0,\n",
      "        0, 0, 0, 0, 0, 0, 0, 0, 0, 0, 0, 0, 0, 0, 0, 0, 0, 0, 0, 0, 0, 0,\n",
      "        0, 0],\n",
      "       [0, 0, 0, 2, 0, 0, 0, 0, 2, 0, 2, 2, 0, 0, 0, 0, 0, 0, 2, 2, 0, 0,\n",
      "        0, 0, 0, 0, 0, 0, 0, 0, 0, 0, 0, 0, 0, 0, 0, 0, 0, 2, 0, 0, 0, 0,\n",
      "        0, 0]]), 6: array([[0, 0, 0, 0, 0, 0, 0, 0, 0, 0, 0, 0, 0, 0, 0, 0, 0, 0, 0, 1, 0, 0,\n",
      "        0, 0, 0, 0, 0, 0, 0, 0, 0, 0, 0, 0, 0, 0, 0, 0, 0, 0, 0, 0, 0, 0,\n",
      "        0, 0],\n",
      "       [1, 0, 0, 0, 0, 0, 0, 0, 0, 0, 0, 0, 0, 0, 0, 0, 0, 0, 0, 0, 0, 0,\n",
      "        0, 0, 0, 1, 0, 0, 0, 0, 0, 0, 0, 0, 0, 0, 0, 0, 0, 0, 0, 0, 0, 0,\n",
      "        0, 0]]), 13: array([[2, 1, 0, 0, 1, 0, 0, 0, 1, 0, 0, 0, 0, 0, 0, 0, 0, 0, 0, 0, 0, 0,\n",
      "        0, 0, 0, 0, 0, 0, 0, 0, 0, 0, 0, 0, 0, 0, 0, 0, 0, 0, 0, 0, 0, 0,\n",
      "        0, 0],\n",
      "       [2, 0, 2, 0, 2, 0, 0, 0, 0, 0, 0, 0, 0, 0, 0, 0, 0, 0, 0, 0, 2, 0,\n",
      "        0, 0, 2, 0, 0, 0, 0, 0, 0, 0, 0, 0, 0, 0, 0, 0, 0, 0, 0, 0, 0, 0,\n",
      "        0, 0]]), 14: array([[1, 0, 0, 0, 0, 0, 0, 0, 0, 0, 0, 0, 0, 0, 0, 0, 0, 0, 0, 0, 0, 0,\n",
      "        0, 0, 0, 0, 0, 0, 0, 0, 0, 0, 0, 0, 0, 0, 0, 0, 0, 0, 0, 0, 0, 0,\n",
      "        0, 0],\n",
      "       [0, 0, 0, 1, 1, 0, 1, 0, 1, 0, 0, 0, 0, 0, 0, 0, 0, 0, 0, 0, 0, 0,\n",
      "        0, 0, 0, 0, 0, 0, 0, 0, 0, 0, 0, 0, 1, 0, 0, 0, 0, 0, 0, 0, 0, 0,\n",
      "        0, 1]]), 19: array([[2, 0, 0, 0, 0, 0, 0, 0, 0, 0, 0, 0, 0, 0, 0, 0, 0, 0, 0, 0, 0, 0,\n",
      "        0, 0, 0, 0, 0, 0, 0, 0, 0, 0, 0, 0, 0, 0, 0, 0, 0, 0, 0, 0, 0, 0,\n",
      "        0, 0],\n",
      "       [2, 0, 0, 0, 0, 2, 0, 0, 0, 0, 0, 0, 2, 0, 0, 0, 0, 0, 0, 0, 0, 0,\n",
      "        0, 0, 0, 0, 0, 0, 0, 0, 0, 0, 0, 0, 0, 0, 0, 0, 0, 0, 0, 0, 0, 0,\n",
      "        0, 0]]), 26: array([[0, 0, 0, 0, 1, 0, 0, 0, 0, 0, 0, 0, 0, 0, 0, 0, 0, 0, 0, 1, 0, 0,\n",
      "        0, 0, 0, 0, 0, 0, 0, 0, 0, 0, 0, 0, 0, 0, 0, 0, 0, 0, 0, 0, 0, 0,\n",
      "        0, 0],\n",
      "       [1, 0, 0, 0, 1, 0, 0, 0, 0, 0, 0, 0, 0, 0, 0, 0, 0, 1, 0, 1, 0, 0,\n",
      "        0, 0, 0, 0, 0, 0, 0, 0, 0, 0, 0, 0, 0, 0, 0, 0, 0, 0, 0, 0, 0, 0,\n",
      "        0, 0]]), 28: array([[0, 0, 0, 0, 0, 0, 0, 0, 0, 0, 0, 0, 0, 0, 0, 0, 0, 0, 0, 0, 0, 0,\n",
      "        0, 0, 0, 0, 0, 0, 0, 0, 0, 0, 0, 1, 0, 0, 0, 0, 0, 0, 0, 0, 0, 0,\n",
      "        0, 0],\n",
      "       [1, 0, 0, 0, 0, 1, 0, 0, 1, 0, 1, 0, 0, 0, 0, 0, 0, 0, 0, 0, 0, 0,\n",
      "        0, 0, 0, 0, 0, 0, 0, 0, 0, 0, 0, 1, 0, 0, 0, 0, 0, 0, 0, 0, 0, 0,\n",
      "        0, 0]]), 32: array([[0, 0, 0, 0, 0, 0, 0, 0, 1, 0, 0, 0, 0, 0, 0, 0, 0, 0, 0, 0, 0, 0,\n",
      "        0, 0, 0, 0, 0, 0, 0, 0, 0, 0, 0, 0, 0, 0, 0, 0, 0, 0, 0, 0, 0, 0,\n",
      "        0, 0],\n",
      "       [0, 0, 0, 0, 0, 0, 0, 1, 1, 1, 0, 0, 0, 0, 0, 0, 0, 0, 0, 0, 0, 0,\n",
      "        0, 0, 0, 0, 0, 0, 0, 0, 0, 0, 0, 0, 0, 0, 0, 0, 0, 0, 0, 0, 0, 0,\n",
      "        0, 0]]), 37: array([[0, 0, 0, 0, 0, 0, 0, 0, 0, 0, 0, 0, 0, 0, 0, 0, 0, 0, 0, 0, 0, 0,\n",
      "        0, 0, 0, 0, 0, 0, 0, 0, 0, 0, 0, 0, 0, 0, 0, 0, 0, 0, 0, 0, 0, 0,\n",
      "        0, 0],\n",
      "       [0, 0, 0, 1, 0, 1, 0, 0, 1, 0, 0, 0, 0, 0, 0, 0, 0, 0, 1, 0, 0, 0,\n",
      "        0, 0, 0, 0, 0, 0, 0, 0, 0, 0, 0, 0, 0, 0, 0, 0, 0, 0, 0, 0, 0, 0,\n",
      "        0, 0]]), 38: array([[1, 1, 0, 0, 0, 0, 0, 0, 0, 0, 0, 0, 0, 0, 0, 0, 0, 0, 0, 0, 0, 0,\n",
      "        0, 0, 0, 0, 0, 0, 0, 0, 0, 0, 0, 0, 0, 0, 0, 0, 0, 0, 0, 0, 0, 0,\n",
      "        0, 0],\n",
      "       [0, 0, 0, 0, 0, 0, 0, 1, 1, 2, 0, 0, 0, 0, 0, 0, 0, 0, 0, 0, 0, 0,\n",
      "        0, 0, 0, 0, 0, 0, 0, 0, 0, 0, 0, 0, 0, 0, 0, 0, 0, 0, 0, 0, 0, 0,\n",
      "        0, 0]]), 46: array([[0, 0, 0, 0, 0, 0, 0, 0, 0, 0, 0, 0, 0, 0, 1, 0, 0, 0, 0, 0, 0, 0,\n",
      "        0, 0, 0, 0, 0, 0, 0, 0, 0, 0, 0, 0, 0, 0, 0, 0, 0, 0, 0, 0, 0, 0,\n",
      "        0, 0],\n",
      "       [1, 0, 0, 0, 1, 0, 1, 0, 0, 0, 0, 0, 0, 0, 0, 0, 0, 0, 0, 0, 0, 0,\n",
      "        0, 0, 1, 0, 0, 0, 0, 0, 0, 0, 0, 0, 0, 0, 0, 0, 0, 0, 0, 0, 0, 0,\n",
      "        0, 0]]), 48: array([[0, 0, 0, 0, 0, 0, 0, 0, 0, 0, 0, 0, 0, 0, 0, 0, 0, 0, 0, 0, 0, 0,\n",
      "        0, 0, 0, 0, 0, 0, 0, 0, 0, 0, 0, 0, 0, 0, 0, 0, 0, 0, 0, 0, 0, 0,\n",
      "        0, 0],\n",
      "       [2, 0, 0, 0, 0, 2, 0, 0, 0, 0, 0, 0, 0, 0, 0, 0, 0, 0, 0, 0, 0, 0,\n",
      "        0, 0, 2, 0, 0, 0, 0, 0, 2, 0, 0, 0, 0, 0, 0, 0, 0, 0, 0, 0, 2, 0,\n",
      "        0, 0]]), 50: array([[0, 0, 0, 0, 0, 0, 0, 0, 1, 0, 0, 0, 0, 0, 0, 0, 0, 0, 0, 0, 0, 0,\n",
      "        0, 0, 0, 0, 0, 0, 0, 0, 0, 0, 0, 0, 0, 0, 0, 0, 0, 0, 0, 0, 0, 0,\n",
      "        0, 0],\n",
      "       [2, 2, 2, 0, 0, 0, 0, 2, 2, 0, 0, 0, 0, 0, 0, 0, 0, 0, 0, 2, 0, 0,\n",
      "        0, 0, 0, 0, 0, 0, 0, 0, 2, 0, 0, 0, 0, 0, 0, 0, 0, 0, 0, 0, 0, 0,\n",
      "        0, 0]]), 54: array([[1, 0, 0, 0, 0, 0, 0, 0, 0, 0, 0, 0, 0, 0, 0, 0, 0, 0, 0, 0, 0, 0,\n",
      "        0, 0, 0, 0, 0, 0, 0, 0, 0, 0, 0, 0, 0, 0, 0, 0, 0, 0, 0, 0, 0, 0,\n",
      "        0, 0],\n",
      "       [0, 0, 0, 0, 1, 0, 0, 0, 0, 1, 0, 0, 0, 0, 0, 0, 1, 0, 0, 0, 0, 0,\n",
      "        0, 0, 0, 0, 0, 0, 0, 0, 0, 0, 0, 0, 0, 0, 0, 0, 0, 0, 0, 0, 0, 0,\n",
      "        0, 0]]), 56: array([[2, 0, 0, 0, 1, 0, 0, 0, 0, 0, 0, 0, 0, 0, 0, 0, 0, 0, 0, 0, 0, 0,\n",
      "        0, 0, 0, 0, 0, 0, 0, 0, 0, 0, 0, 0, 0, 0, 0, 0, 0, 0, 0, 0, 0, 0,\n",
      "        0, 0],\n",
      "       [2, 0, 0, 0, 0, 0, 0, 0, 0, 2, 0, 0, 0, 0, 0, 0, 0, 0, 0, 0, 0, 0,\n",
      "        0, 0, 0, 0, 0, 0, 0, 0, 0, 0, 0, 2, 0, 0, 0, 0, 0, 0, 0, 0, 0, 0,\n",
      "        0, 0]]), 57: array([[0, 0, 0, 0, 0, 1, 0, 0, 0, 0, 0, 0, 0, 0, 0, 0, 0, 0, 0, 0, 0, 0,\n",
      "        0, 0, 0, 0, 0, 0, 0, 0, 0, 0, 0, 0, 0, 0, 0, 0, 0, 0, 0, 0, 0, 0,\n",
      "        0, 0],\n",
      "       [0, 0, 0, 2, 0, 0, 0, 0, 0, 0, 0, 0, 0, 0, 0, 0, 0, 0, 0, 0, 0, 0,\n",
      "        0, 0, 0, 0, 0, 0, 0, 0, 0, 0, 0, 0, 0, 0, 0, 0, 0, 0, 0, 0, 0, 0,\n",
      "        0, 0]]), 61: array([[0, 0, 0, 0, 1, 0, 0, 0, 0, 0, 0, 0, 0, 0, 0, 0, 0, 0, 0, 0, 0, 0,\n",
      "        0, 0, 0, 0, 0, 0, 0, 0, 0, 0, 0, 0, 0, 0, 0, 0, 0, 0, 0, 0, 0, 0,\n",
      "        0, 0],\n",
      "       [2, 0, 0, 0, 0, 0, 2, 0, 0, 0, 0, 0, 0, 0, 0, 0, 0, 0, 0, 0, 0, 0,\n",
      "        0, 0, 0, 0, 0, 0, 0, 0, 0, 0, 0, 0, 0, 0, 0, 0, 0, 0, 0, 0, 0, 0,\n",
      "        0, 0]]), 62: array([[1, 0, 0, 0, 0, 0, 0, 0, 0, 1, 0, 0, 0, 0, 0, 0, 0, 0, 0, 0, 0, 0,\n",
      "        0, 0, 0, 0, 0, 0, 0, 0, 0, 0, 0, 0, 0, 0, 0, 0, 0, 0, 0, 0, 0, 0,\n",
      "        0, 0],\n",
      "       [1, 0, 0, 2, 2, 0, 2, 0, 0, 0, 0, 0, 0, 0, 0, 0, 0, 0, 0, 0, 0, 0,\n",
      "        0, 0, 0, 0, 0, 0, 0, 0, 0, 0, 0, 0, 0, 0, 0, 0, 0, 0, 0, 0, 0, 0,\n",
      "        0, 0]]), 64: array([[0, 0, 0, 0, 0, 0, 0, 0, 0, 0, 0, 0, 0, 0, 1, 0, 0, 0, 0, 2, 0, 0,\n",
      "        0, 0, 0, 0, 0, 0, 0, 0, 0, 0, 0, 0, 0, 0, 0, 0, 0, 0, 0, 0, 0, 0,\n",
      "        0, 0],\n",
      "       [0, 0, 0, 0, 0, 0, 0, 0, 1, 1, 0, 0, 0, 0, 0, 0, 0, 0, 1, 0, 0, 0,\n",
      "        0, 0, 1, 1, 0, 0, 0, 0, 0, 0, 0, 0, 0, 0, 0, 0, 0, 0, 0, 0, 0, 0,\n",
      "        0, 0]]), 65: array([[2, 0, 0, 0, 0, 0, 0, 0, 0, 0, 0, 0, 0, 0, 0, 0, 0, 0, 0, 0, 0, 0,\n",
      "        0, 0, 0, 0, 0, 0, 0, 0, 0, 0, 0, 0, 0, 0, 0, 0, 0, 0, 0, 0, 0, 0,\n",
      "        0, 0],\n",
      "       [0, 0, 0, 0, 0, 1, 1, 0, 0, 0, 0, 1, 1, 0, 0, 0, 0, 0, 0, 0, 0, 0,\n",
      "        0, 0, 0, 0, 1, 1, 0, 0, 0, 0, 0, 0, 0, 0, 0, 0, 0, 0, 0, 1, 0, 0,\n",
      "        0, 0]]), 68: array([[2, 0, 0, 0, 1, 0, 0, 0, 0, 0, 0, 0, 0, 0, 0, 0, 0, 0, 0, 0, 0, 0,\n",
      "        0, 0, 0, 0, 0, 0, 0, 0, 0, 0, 0, 0, 0, 0, 0, 0, 0, 0, 0, 0, 0, 0,\n",
      "        0, 0],\n",
      "       [2, 0, 0, 0, 0, 2, 0, 0, 0, 0, 0, 0, 0, 0, 0, 0, 0, 0, 0, 0, 0, 0,\n",
      "        0, 0, 0, 2, 0, 0, 0, 0, 0, 0, 0, 2, 0, 0, 0, 0, 0, 0, 0, 0, 2, 0,\n",
      "        0, 0]]), 72: array([[0, 0, 0, 0, 0, 0, 0, 0, 0, 0, 0, 0, 0, 0, 1, 0, 0, 0, 0, 0, 0, 0,\n",
      "        0, 0, 0, 0, 0, 0, 0, 0, 0, 0, 0, 0, 0, 0, 0, 0, 0, 0, 0, 0, 0, 0,\n",
      "        0, 0],\n",
      "       [0, 0, 0, 1, 1, 0, 0, 0, 1, 0, 0, 0, 0, 0, 0, 0, 0, 0, 0, 0, 0, 1,\n",
      "        0, 0, 0, 0, 0, 0, 0, 0, 0, 0, 0, 1, 0, 0, 0, 0, 0, 0, 0, 0, 0, 0,\n",
      "        0, 0]]), 77: array([[0, 0, 0, 0, 0, 1, 0, 0, 0, 0, 0, 0, 0, 0, 0, 0, 0, 0, 0, 0, 0, 0,\n",
      "        0, 0, 0, 0, 0, 0, 0, 0, 0, 0, 0, 0, 0, 0, 0, 0, 0, 0, 0, 0, 0, 0,\n",
      "        0, 0],\n",
      "       [2, 0, 0, 0, 2, 2, 0, 0, 2, 2, 0, 0, 0, 0, 0, 0, 2, 0, 0, 0, 0, 0,\n",
      "        2, 0, 0, 0, 0, 0, 0, 0, 0, 0, 0, 0, 0, 0, 0, 0, 0, 0, 0, 0, 0, 0,\n",
      "        0, 0]]), 81: array([[0, 0, 0, 0, 0, 0, 0, 0, 0, 2, 0, 0, 0, 0, 0, 0, 0, 0, 0, 0, 0, 0,\n",
      "        0, 0, 0, 0, 0, 0, 0, 0, 0, 0, 0, 0, 0, 0, 0, 0, 0, 0, 0, 0, 0, 0,\n",
      "        0, 0],\n",
      "       [0, 2, 0, 0, 0, 2, 0, 0, 1, 0, 0, 0, 0, 0, 0, 0, 0, 0, 0, 0, 0, 0,\n",
      "        0, 0, 0, 0, 0, 0, 0, 0, 0, 0, 0, 0, 0, 0, 0, 0, 0, 0, 0, 0, 0, 0,\n",
      "        0, 0]]), 82: array([[0, 0, 0, 0, 0, 0, 0, 0, 0, 0, 0, 0, 0, 0, 0, 0, 0, 0, 0, 0, 0, 0,\n",
      "        0, 0, 0, 0, 0, 0, 0, 0, 0, 0, 0, 0, 0, 0, 0, 0, 0, 0, 0, 0, 0, 0,\n",
      "        0, 0],\n",
      "       [2, 0, 0, 0, 0, 0, 0, 0, 2, 0, 0, 0, 0, 0, 0, 0, 0, 0, 0, 2, 0, 0,\n",
      "        0, 0, 2, 0, 0, 0, 0, 0, 0, 0, 0, 0, 0, 0, 0, 0, 0, 0, 0, 0, 0, 0,\n",
      "        0, 0]]), 83: array([[1, 0, 0, 0, 0, 0, 0, 0, 0, 0, 0, 0, 0, 0, 0, 0, 0, 0, 0, 0, 0, 0,\n",
      "        0, 0, 0, 0, 0, 0, 0, 0, 0, 0, 0, 0, 0, 0, 0, 0, 0, 0, 0, 0, 0, 0,\n",
      "        0, 0],\n",
      "       [2, 0, 0, 0, 1, 0, 1, 2, 2, 0, 0, 0, 2, 0, 0, 0, 0, 0, 0, 0, 0, 0,\n",
      "        0, 0, 0, 0, 0, 0, 0, 0, 0, 0, 0, 0, 0, 0, 0, 0, 0, 0, 1, 0, 0, 0,\n",
      "        0, 0]]), 85: array([[0, 0, 0, 0, 0, 0, 0, 0, 0, 0, 0, 0, 0, 0, 0, 0, 0, 0, 0, 0, 0, 0,\n",
      "        0, 0, 0, 0, 0, 0, 0, 0, 0, 0, 0, 0, 0, 0, 0, 0, 0, 0, 0, 0, 0, 0,\n",
      "        0, 0],\n",
      "       [1, 0, 0, 2, 1, 0, 1, 0, 0, 0, 0, 0, 0, 0, 0, 0, 0, 0, 0, 0, 0, 2,\n",
      "        0, 0, 0, 0, 0, 0, 0, 0, 0, 0, 0, 0, 1, 0, 0, 0, 0, 0, 0, 0, 0, 0,\n",
      "        0, 0]]), 86: array([[0, 1, 0, 0, 0, 0, 0, 0, 1, 0, 0, 0, 0, 0, 0, 0, 0, 0, 0, 1, 0, 0,\n",
      "        0, 0, 0, 0, 0, 0, 0, 0, 0, 0, 0, 0, 0, 0, 0, 0, 0, 0, 0, 0, 0, 0,\n",
      "        0, 0],\n",
      "       [0, 0, 0, 0, 0, 0, 0, 0, 0, 1, 0, 0, 0, 0, 0, 0, 0, 0, 0, 0, 0, 0,\n",
      "        0, 0, 0, 1, 0, 0, 0, 0, 0, 0, 0, 0, 0, 0, 0, 0, 0, 0, 0, 0, 0, 0,\n",
      "        0, 0]]), 88: array([[0, 0, 0, 0, 0, 0, 0, 0, 0, 0, 0, 0, 0, 0, 0, 0, 0, 0, 0, 0, 0, 0,\n",
      "        0, 0, 0, 0, 0, 0, 0, 0, 0, 0, 0, 0, 0, 0, 0, 0, 0, 0, 0, 0, 0, 0,\n",
      "        0, 0],\n",
      "       [2, 2, 0, 0, 0, 2, 2, 0, 0, 0, 0, 0, 0, 0, 0, 0, 0, 0, 0, 0, 0, 0,\n",
      "        0, 0, 2, 0, 0, 0, 0, 0, 0, 0, 0, 0, 0, 0, 0, 0, 0, 0, 0, 0, 0, 0,\n",
      "        0, 0]]), 89: array([[0, 1, 0, 0, 0, 0, 0, 0, 0, 0, 0, 0, 0, 0, 0, 0, 0, 0, 0, 0, 0, 0,\n",
      "        0, 0, 0, 0, 0, 0, 0, 0, 0, 0, 0, 0, 0, 0, 0, 0, 0, 0, 0, 0, 0, 0,\n",
      "        0, 0],\n",
      "       [0, 0, 0, 0, 1, 0, 0, 0, 1, 0, 0, 1, 1, 0, 0, 0, 1, 0, 0, 0, 0, 0,\n",
      "        0, 1, 0, 0, 0, 0, 0, 0, 0, 0, 0, 0, 0, 0, 0, 0, 0, 0, 0, 0, 0, 0,\n",
      "        0, 0]]), 91: array([[0, 0, 0, 0, 0, 0, 0, 0, 0, 0, 0, 0, 0, 0, 0, 0, 0, 0, 0, 0, 0, 0,\n",
      "        0, 0, 0, 0, 0, 0, 0, 0, 0, 0, 0, 0, 0, 0, 0, 0, 0, 0, 0, 0, 0, 0,\n",
      "        0, 0],\n",
      "       [1, 0, 0, 0, 0, 0, 0, 0, 2, 0, 0, 0, 0, 0, 0, 2, 0, 0, 0, 0, 0, 0,\n",
      "        0, 0, 0, 0, 0, 0, 0, 0, 0, 0, 0, 0, 0, 0, 0, 0, 0, 0, 0, 0, 0, 0,\n",
      "        0, 0]]), 92: array([[1, 0, 0, 0, 0, 0, 0, 0, 0, 0, 0, 0, 0, 0, 0, 0, 0, 0, 0, 0, 0, 0,\n",
      "        0, 0, 0, 0, 0, 0, 0, 0, 0, 0, 0, 0, 0, 0, 0, 0, 0, 0, 0, 0, 0, 0,\n",
      "        0, 0],\n",
      "       [2, 0, 0, 0, 0, 0, 0, 0, 2, 0, 0, 0, 0, 0, 0, 0, 0, 0, 0, 0, 0, 0,\n",
      "        0, 0, 2, 0, 0, 0, 0, 0, 0, 0, 0, 0, 0, 0, 0, 0, 0, 0, 0, 0, 0, 0,\n",
      "        0, 0]])}\n",
      "32\n"
     ]
    }
   ],
   "source": [
    "enrollable_courses = get_all_enrollable_courses(learners_array[0], courses_array, threshold = 0.8)\n",
    "print(enrollable_courses) #ouput : course_id : array 2d ( required skills,  provided skills)\n",
    "print(len(enrollable_courses)) #32"
   ]
  },
  {
   "cell_type": "code",
   "execution_count": 33,
   "id": "e13c55c1-d0dc-4a51-84db-824146804a73",
   "metadata": {},
   "outputs": [
    {
     "data": {
      "text/plain": [
       "1.0"
      ]
     },
     "execution_count": 33,
     "metadata": {},
     "output_type": "execute_result"
    }
   ],
   "source": [
    "learner_course_required_matching(learners_array[0],courses_array[0])"
   ]
  },
  {
   "cell_type": "markdown",
   "id": "26efa876-1061-431f-8d52-80c602022240",
   "metadata": {},
   "source": [
    "#### Let's check if the return of 1 is due to the course having no required skills, or if it's because the course is relevant to the learner, where matching = 1."
   ]
  },
  {
   "cell_type": "code",
   "execution_count": 38,
   "id": "04376d0a-8200-46d9-a896-e1ffa968b940",
   "metadata": {},
   "outputs": [
    {
     "data": {
      "text/plain": [
       "True"
      ]
     },
     "execution_count": 38,
     "metadata": {},
     "output_type": "execute_result"
    }
   ],
   "source": [
    "np.any(courses_array[0][0]) #true if at least one element is not 0\n",
    "#so,  return of 1 is NOT due to the course having no required skills"
   ]
  },
  {
   "cell_type": "code",
   "execution_count": 41,
   "id": "bf515918-d549-4d85-88db-d3e387a40822",
   "metadata": {},
   "outputs": [
    {
     "name": "stdout",
     "output_type": "stream",
     "text": [
      "[2 2 0 0 1 1 0 0 1 2 0 0 0 0 1 0 0 0 0 2 0 0 0 0 0 0 2 2 1 0 0 0 0 1 0 0 2\n",
      " 1 0 0 0 0 0 0 0 0]\n",
      "[0 0 0 0 0 0 0 0 0 0 0 0 0 0 0 0 0 0 0 1 0 0 0 0 0 0 0 0 0 0 0 0 0 0 0 0 0\n",
      " 0 0 0 0 0 0 0 0 0]\n",
      "[0 0 0 2 0 0 0 0 2 0 2 2 0 0 0 0 0 0 2 2 0 0 0 0 0 0 0 0 0 0 0 0 0 0 0 0 0\n",
      " 0 0 2 0 0 0 0 0 0]\n"
     ]
    }
   ],
   "source": [
    "print(learners_array[0]) #learner's skill\n",
    "print(courses_array[0][0]) #course's required skill\n",
    "print(courses_array[0][1]) #course's required skill"
   ]
  },
  {
   "cell_type": "code",
   "execution_count": 37,
   "id": "2bee9f5c-29d4-4ba1-85bd-1e6ddc91c2ab",
   "metadata": {},
   "outputs": [
    {
     "data": {
      "text/plain": [
       "1.0"
      ]
     },
     "execution_count": 37,
     "metadata": {},
     "output_type": "execute_result"
    }
   ],
   "source": [
    "matching(learners_array[0],courses_array[0][0]) # totally eligible"
   ]
  },
  {
   "cell_type": "code",
   "execution_count": 49,
   "id": "2bb9ae9e-83a8-415c-9bac-f619a96e8cfd",
   "metadata": {},
   "outputs": [
    {
     "data": {
      "text/plain": [
       "0.21428571428571427"
      ]
     },
     "execution_count": 49,
     "metadata": {},
     "output_type": "execute_result"
    }
   ],
   "source": [
    "learner_course_provided_matching(learners_array[0],courses_array[0]) #learner does not know everything provided after attending the course."
   ]
  },
  {
   "cell_type": "markdown",
   "id": "cf05d0db-a15a-48c7-91f3-1460ebbc52ff",
   "metadata": {},
   "source": [
    "\n",
    "$\\begin{aligned}\n",
    "uc\\text{-}rel(u,c)\n",
    "  &=\\; uc_r(u,c_r)\\,\\bigl(1 - uc_p(u,c_p)\\bigr)\n",
    "  \\\\[1ex]\n",
    "uc_r(u,c_r)\n",
    "  &=\\; \\dfrac{1}{\\lvert c_r\\rvert}\n",
    "       \\sum_{s\\in c_r}\n",
    "         \\dfrac{\\mathrm{sim}\\bigl(sl_{s,u},\\,sl_{s,c_r}\\bigr)}{1}\n",
    "  \\\\[1ex]\n",
    "uc_p(u,c_p)\n",
    "  &=\\; \\dfrac{1}{\\lvert c_p\\rvert}\n",
    "       \\sum_{s\\in c_p}\n",
    "         \\dfrac{\\mathrm{sim}\\bigl(sl_{s,u},\\,sl_{s,c_p}\\bigr)}{1}\n",
    "\\end{aligned}$\n",
    "\n"
   ]
  },
  {
   "cell_type": "code",
   "execution_count": 52,
   "id": "1efb0ba6-5f09-4997-a734-5d3a579323e6",
   "metadata": {},
   "outputs": [
    {
     "data": {
      "text/plain": [
       "0.7857142857142857"
      ]
     },
     "execution_count": 52,
     "metadata": {},
     "output_type": "execute_result"
    }
   ],
   "source": [
    "learner_course_matching(learners_array[0],courses_array[0]) # pretty relevant course [0] - learner [0]"
   ]
  },
  {
   "cell_type": "code",
   "execution_count": null,
   "id": "79975034-eb67-4a66-aff3-d8152d761f47",
   "metadata": {},
   "outputs": [],
   "source": []
  }
 ],
 "metadata": {
  "kernelspec": {
   "display_name": "Python 3 (ipykernel)",
   "language": "python",
   "name": "python3"
  },
  "language_info": {
   "codemirror_mode": {
    "name": "ipython",
    "version": 3
   },
   "file_extension": ".py",
   "mimetype": "text/x-python",
   "name": "python",
   "nbconvert_exporter": "python",
   "pygments_lexer": "ipython3",
   "version": "3.11.4"
  }
 },
 "nbformat": 4,
 "nbformat_minor": 5
}
