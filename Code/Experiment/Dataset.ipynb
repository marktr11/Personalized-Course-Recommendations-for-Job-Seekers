{
 "cells": [
  {
   "cell_type": "code",
   "execution_count": 13,
   "id": "0257cead",
   "metadata": {},
   "outputs": [],
   "source": [
    "import json\n",
    "import random\n",
    "import os\n",
    "import argparse\n",
    "\n",
    "import pandas as pd\n",
    "import numpy as np\n",
    "\n",
    "from collections import defaultdict\n",
    "import yaml\n",
    "from IPython.display import display"
   ]
  },
  {
   "cell_type": "code",
   "execution_count": 2,
   "id": "f6f627db",
   "metadata": {},
   "outputs": [
    {
     "name": "stdout",
     "output_type": "stream",
     "text": [
      "['.gitignore', 'config', 'Experiment', 'jcrec', 'requirements.txt', 'results']\n",
      "C:\\Users\\minhm\\OneDrive - Université Côte d'Azur\\I3S_CNRS_Internship\\Project\\Code\\Experiment\n",
      "False\n"
     ]
    }
   ],
   "source": [
    "print(os.listdir(\"..\"))\n",
    "print(os.getcwd())\n",
    "print(os.path.exists(\"Code/config/run.yaml\"))"
   ]
  },
  {
   "cell_type": "code",
   "execution_count": 90,
   "id": "08464a46",
   "metadata": {},
   "outputs": [],
   "source": [
    "config_path = \"../config/run.yaml\"\n",
    "\n",
    "with open(config_path, \"r\") as f:\n",
    "        config = yaml.load(f, Loader=yaml.FullLoader)"
   ]
  },
  {
   "cell_type": "code",
   "execution_count": 91,
   "id": "d4ca52a2",
   "metadata": {},
   "outputs": [
    {
     "name": "stdout",
     "output_type": "stream",
     "text": [
      "../../Data - Collection/Final/taxonomy.csv\n"
     ]
    }
   ],
   "source": [
    "path = os.path.join(\"../../\", config[\"taxonomy_path\"]) #test path\n",
    "print(path)"
   ]
  },
  {
   "cell_type": "code",
   "execution_count": 147,
   "id": "e9c12c9c",
   "metadata": {},
   "outputs": [],
   "source": [
    "def load_skills(config):\n",
    "        \"\"\"\n",
    "        Loads skills from a taxonomy file into the instance, processes them based on configuration,\n",
    "        and creates a mapping of skills to integer indices.\n",
    "\n",
    "        The method reads a CSV file specified in the configuration and processes the skills\n",
    "        either by extracting unique values from the 'Type Level 3' column (if level_3 is True)\n",
    "        or using the 'unique_id' column (if level_3 is False). It populates `skills` with\n",
    "        a set of skills and `skills2int` with a dictionary mapping skills to integer indices.\n",
    "\n",
    "        Attributes Modified:\n",
    "            skills (set): A set of unique skill identifiers or level 3 types.\n",
    "            skills2int (dict): A dictionary mapping skill identifiers to integer indices.\n",
    "        \"\"\"\n",
    "        # load the skills from the taxonomy file\n",
    "        skills = pd.read_csv(os.path.join(\"../../\", config[\"taxonomy_path\"]))\n",
    "        display(skills.head(3))\n",
    "        print(\"\\n\")\n",
    "        print(skills.columns)\n",
    "        print(f\"Total skills :{len(skills)}\")\n",
    "        # if level_3 is true, we only use the level 3 of the skill taxonomy, then we need to get the unique values in column Type Level 3\n",
    "        ## Note: A single taxonomy skill may be shared across multiple skills. Using Level 3 taxonomy is preferred\n",
    "        # as it maintains effective skill categorization. Levels 1 or 2 are too broad, resulting in overly general domains.\n",
    "        if config[\"level_3\"]:\n",
    "            # get all the unique values in column Type Level 3\n",
    "            level2int = {\n",
    "                level: i for i, level in enumerate(skills[\"Type Level 3\"].unique())\n",
    "            }\n",
    "\n",
    "            # make a dict from column unique_id to column Type Level 3\n",
    "            skills_dict = dict(\n",
    "                zip(skills[\"unique_id\"], skills[\"Type Level 3\"])\n",
    "            )\n",
    "\n",
    "            # map skills_dict values to level2int\n",
    "            skills2int = {\n",
    "                key: level2int[value] for key, value in skills_dict.items()\n",
    "            }\n",
    "            skills = set(skills2int.values())\n",
    "            print(f\"total taxonomy skills :\",len(skills), \"\\n\")\n",
    "            #print(level2int) #output : software and applications development and analysis : 0\n",
    "            #print(skills_dict) #output : 1000: software and applications development and analysis\n",
    "            #print(skills2int) #output : 1000: 0\n",
    "            return skills,skills2int\n",
    "        # if level_3 is false, we use the unique_id column as the skills ~ no taxonomy levels\n",
    "        else:\n",
    "            skills = set(skills[\"unique_id\"])\n",
    "            skills2int = {skill: i for i, skill in enumerate(skills)}\n",
    "            #print(len(skills)) #output : 1794\n",
    "            #print(len(skills2int)) #output : 1794\n",
    "            return skills,skills2int"
   ]
  },
  {
   "cell_type": "code",
   "execution_count": 149,
   "id": "bd3fa8d9",
   "metadata": {},
   "outputs": [
    {
     "data": {
      "text/html": [
       "<div>\n",
       "<style scoped>\n",
       "    .dataframe tbody tr th:only-of-type {\n",
       "        vertical-align: middle;\n",
       "    }\n",
       "\n",
       "    .dataframe tbody tr th {\n",
       "        vertical-align: top;\n",
       "    }\n",
       "\n",
       "    .dataframe thead th {\n",
       "        text-align: right;\n",
       "    }\n",
       "</style>\n",
       "<table border=\"1\" class=\"dataframe\">\n",
       "  <thead>\n",
       "    <tr style=\"text-align: right;\">\n",
       "      <th></th>\n",
       "      <th>Unnamed: 0</th>\n",
       "      <th>Source</th>\n",
       "      <th>Type Level 4</th>\n",
       "      <th>altLabels</th>\n",
       "      <th>Definition</th>\n",
       "      <th>Dimension</th>\n",
       "      <th>Type Level 1</th>\n",
       "      <th>Type Level 2</th>\n",
       "      <th>Type Level 3</th>\n",
       "      <th>unique_id</th>\n",
       "      <th>name</th>\n",
       "      <th>name+definition</th>\n",
       "    </tr>\n",
       "  </thead>\n",
       "  <tbody>\n",
       "    <tr>\n",
       "      <th>0</th>\n",
       "      <td>0</td>\n",
       "      <td>http://data.europa.eu/esco/skill/000f1d3d-220f...</td>\n",
       "      <td>Haskell</td>\n",
       "      <td>Haskell</td>\n",
       "      <td>The techniques and principles of software deve...</td>\n",
       "      <td>knowledge</td>\n",
       "      <td>information and communication technologies (icts)</td>\n",
       "      <td>information and communication technologies (icts)</td>\n",
       "      <td>software and applications development and anal...</td>\n",
       "      <td>1000</td>\n",
       "      <td>Haskell</td>\n",
       "      <td>Haskell : the techniques and principles of sof...</td>\n",
       "    </tr>\n",
       "    <tr>\n",
       "      <th>1</th>\n",
       "      <td>2</td>\n",
       "      <td>http://data.europa.eu/esco/skill/0037c821-2898...</td>\n",
       "      <td>develop energy saving concepts</td>\n",
       "      <td>developing concepts for energy saving\\r\\ndevel...</td>\n",
       "      <td>Use current research results and collaborate w...</td>\n",
       "      <td>skills</td>\n",
       "      <td>management skills</td>\n",
       "      <td>developing objectives and strategies</td>\n",
       "      <td>developing operational policies and procedures</td>\n",
       "      <td>1001</td>\n",
       "      <td>develop energy saving concepts</td>\n",
       "      <td>develop energy saving concepts : use current r...</td>\n",
       "    </tr>\n",
       "    <tr>\n",
       "      <th>2</th>\n",
       "      <td>4</td>\n",
       "      <td>http://data.europa.eu/esco/skill/0058526a-11e9...</td>\n",
       "      <td>conduct research on flora</td>\n",
       "      <td>carry out research on flora\\r\\nflora research\\...</td>\n",
       "      <td>Collect and analyse data about plants in order...</td>\n",
       "      <td>skills</td>\n",
       "      <td>information skills</td>\n",
       "      <td>analysing and evaluating information and data</td>\n",
       "      <td>analysing scientific and medical data</td>\n",
       "      <td>1002</td>\n",
       "      <td>conduct research on flora</td>\n",
       "      <td>conduct research on flora : collect and analys...</td>\n",
       "    </tr>\n",
       "  </tbody>\n",
       "</table>\n",
       "</div>"
      ],
      "text/plain": [
       "   Unnamed: 0                                             Source  \\\n",
       "0           0  http://data.europa.eu/esco/skill/000f1d3d-220f...   \n",
       "1           2  http://data.europa.eu/esco/skill/0037c821-2898...   \n",
       "2           4  http://data.europa.eu/esco/skill/0058526a-11e9...   \n",
       "\n",
       "                     Type Level 4  \\\n",
       "0                         Haskell   \n",
       "1  develop energy saving concepts   \n",
       "2       conduct research on flora   \n",
       "\n",
       "                                           altLabels  \\\n",
       "0                                            Haskell   \n",
       "1  developing concepts for energy saving\\r\\ndevel...   \n",
       "2  carry out research on flora\\r\\nflora research\\...   \n",
       "\n",
       "                                          Definition  Dimension  \\\n",
       "0  The techniques and principles of software deve...  knowledge   \n",
       "1  Use current research results and collaborate w...     skills   \n",
       "2  Collect and analyse data about plants in order...     skills   \n",
       "\n",
       "                                        Type Level 1  \\\n",
       "0  information and communication technologies (icts)   \n",
       "1                                  management skills   \n",
       "2                                 information skills   \n",
       "\n",
       "                                        Type Level 2  \\\n",
       "0  information and communication technologies (icts)   \n",
       "1               developing objectives and strategies   \n",
       "2      analysing and evaluating information and data   \n",
       "\n",
       "                                        Type Level 3  unique_id  \\\n",
       "0  software and applications development and anal...       1000   \n",
       "1     developing operational policies and procedures       1001   \n",
       "2              analysing scientific and medical data       1002   \n",
       "\n",
       "                             name  \\\n",
       "0                         Haskell   \n",
       "1  develop energy saving concepts   \n",
       "2       conduct research on flora   \n",
       "\n",
       "                                     name+definition  \n",
       "0  Haskell : the techniques and principles of sof...  \n",
       "1  develop energy saving concepts : use current r...  \n",
       "2  conduct research on flora : collect and analys...  "
      ]
     },
     "metadata": {},
     "output_type": "display_data"
    },
    {
     "name": "stdout",
     "output_type": "stream",
     "text": [
      "\n",
      "\n",
      "Index(['Unnamed: 0', 'Source', 'Type Level 4', 'altLabels', 'Definition',\n",
      "       'Dimension', 'Type Level 1', 'Type Level 2', 'Type Level 3',\n",
      "       'unique_id', 'name', 'name+definition'],\n",
      "      dtype='object')\n",
      "Total skills :1794\n",
      "total taxonomy skills : 46 \n",
      "\n"
     ]
    }
   ],
   "source": [
    "skills,skills2int = load_skills(config=config)"
   ]
  },
  {
   "cell_type": "code",
   "execution_count": 106,
   "id": "2b87707a",
   "metadata": {},
   "outputs": [],
   "source": [
    "def load_mastery_levels(config):\n",
    "        \"\"\"Load the mastery levels from the file specified in the config and store it in the class attribute\"\"\"\n",
    "        mastery_levels = json.load(open(os.path.join(\"../../\", config[\"mastery_levels_path\"])))\n",
    "        print(mastery_levels)\n",
    "        return mastery_levels"
   ]
  },
  {
   "cell_type": "code",
   "execution_count": 134,
   "id": "383eec7e",
   "metadata": {},
   "outputs": [
    {
     "name": "stdout",
     "output_type": "stream",
     "text": [
      "{'beginner': 1, 'intermediate': 2, 'expert': 3, 'unknown': -1}\n"
     ]
    }
   ],
   "source": [
    "mastery_levels = load_mastery_levels(config)"
   ]
  },
  {
   "cell_type": "code",
   "execution_count": 157,
   "id": "2746c006-d5a4-470e-85b4-cfb09cf84036",
   "metadata": {},
   "outputs": [],
   "source": [
    "def get_avg_skills(skill_list,skills2int,mastery_levels, replace_unk):\n",
    "        avg_skills = defaultdict(list)\n",
    "        for skill, mastery_level in skill_list:\n",
    "            # if the mastery level is a string and is in the mastery levels, we replace it with the corresponding value, otherwise we do nothing and continue to the next skill\n",
    "            if isinstance(mastery_level, str) and mastery_level in mastery_levels:\n",
    "                mastery_level = mastery_levels[mastery_level]\n",
    "                if mastery_level == -1:\n",
    "                    mastery_level = replace_unk\n",
    "                skill = skills2int[skill]\n",
    "                avg_skills[skill].append(mastery_level)\n",
    "        # we take the average of the mastery levels for each skill because on our dataset we can have multiple mastery levels for the same skill\n",
    "        for skill in avg_skills.keys():\n",
    "            avg_skills[skill] = sum(avg_skills[skill]) / len(avg_skills[skill])\n",
    "            avg_skills[skill] = round(avg_skills[skill])\n",
    "\n",
    "        return avg_skills"
   ]
  },
  {
   "cell_type": "code",
   "execution_count": 158,
   "id": "90538004-c8b0-417c-9505-5e39b31019bb",
   "metadata": {},
   "outputs": [],
   "source": [
    "def load_learners(config, skills,mastery_levels,replace_unk=1):\n",
    "        \"\"\"Load the learners from the file specified in the config and store it in the class attribute\n",
    "\n",
    "        Args:\n",
    "            replace_unk (int, optional): The value to replace the unknown mastery levels. Defaults to 1.\n",
    "        \"\"\"\n",
    "        learners = json.load(open(os.path.join(\"../../\", config[\"cv_path\"])))\n",
    "        #display(learners)  #output:'36856210': [[1024, 'expert'],[2017, 'expert'],...\n",
    "        max_learner_skills = config[\"max_cv_skills\"]\n",
    "        learners_index = dict()\n",
    "\n",
    "        # numpy array to store the learners skill proficiency levels with default value 0\n",
    "        learners_array = np.zeros((len(learners), len(skills)), dtype=int)\n",
    "        index = 0\n",
    "\n",
    "        # fill the numpy array with the learners skill proficiency levels from the json file\n",
    "        for learner_id, learner in learners.items():\n",
    "\n",
    "            avg_learner = get_avg_skills(learner,skills2int,mastery_levels, replace_unk)\n",
    "\n",
    "            # if the number of skills is greater than the max_learner_skills, we skip the learner\n",
    "            if len(avg_learner) > max_learner_skills:\n",
    "                continue\n",
    "\n",
    "            # we fill the numpy array with the averaged mastery levels\n",
    "            for skill, level in avg_learner.items():\n",
    "                learners_array[index][skill] = level\n",
    "\n",
    "            learners_index[index] = learner_id\n",
    "            learners_index[learner_id] = index\n",
    "\n",
    "            index += 1\n",
    "\n",
    "        # we update the learners numpy array with the correct number of rows\n",
    "        earners_array = learners_array[:index]"
   ]
  },
  {
   "cell_type": "code",
   "execution_count": 159,
   "id": "9fe1363d-974f-4517-963d-1c81f6c02561",
   "metadata": {},
   "outputs": [
    {
     "ename": "TypeError",
     "evalue": "argument of type 'NoneType' is not iterable",
     "output_type": "error",
     "traceback": [
      "\u001b[1;31m---------------------------------------------------------------------------\u001b[0m",
      "\u001b[1;31mTypeError\u001b[0m                                 Traceback (most recent call last)",
      "Cell \u001b[1;32mIn[159], line 1\u001b[0m\n\u001b[1;32m----> 1\u001b[0m \u001b[43mload_learners\u001b[49m\u001b[43m(\u001b[49m\u001b[43mconfig\u001b[49m\u001b[43m,\u001b[49m\u001b[43mskills\u001b[49m\u001b[43m,\u001b[49m\u001b[43mmastery_levels\u001b[49m\u001b[43m)\u001b[49m\n",
      "Cell \u001b[1;32mIn[158], line 19\u001b[0m, in \u001b[0;36mload_learners\u001b[1;34m(config, skills, mastery_levels, replace_unk)\u001b[0m\n\u001b[0;32m     16\u001b[0m \u001b[38;5;66;03m# fill the numpy array with the learners skill proficiency levels from the json file\u001b[39;00m\n\u001b[0;32m     17\u001b[0m \u001b[38;5;28;01mfor\u001b[39;00m learner_id, learner \u001b[38;5;129;01min\u001b[39;00m learners\u001b[38;5;241m.\u001b[39mitems():\n\u001b[1;32m---> 19\u001b[0m     avg_learner \u001b[38;5;241m=\u001b[39m \u001b[43mget_avg_skills\u001b[49m\u001b[43m(\u001b[49m\u001b[43mlearner\u001b[49m\u001b[43m,\u001b[49m\u001b[43mskills2int\u001b[49m\u001b[43m,\u001b[49m\u001b[43mmastery_levels\u001b[49m\u001b[43m,\u001b[49m\u001b[43m \u001b[49m\u001b[43mreplace_unk\u001b[49m\u001b[43m)\u001b[49m\n\u001b[0;32m     21\u001b[0m     \u001b[38;5;66;03m# if the number of skills is greater than the max_learner_skills, we skip the learner\u001b[39;00m\n\u001b[0;32m     22\u001b[0m     \u001b[38;5;28;01mif\u001b[39;00m \u001b[38;5;28mlen\u001b[39m(avg_learner) \u001b[38;5;241m>\u001b[39m max_learner_skills:\n",
      "Cell \u001b[1;32mIn[157], line 5\u001b[0m, in \u001b[0;36mget_avg_skills\u001b[1;34m(skill_list, skills2int, mastery_levels, replace_unk)\u001b[0m\n\u001b[0;32m      2\u001b[0m avg_skills \u001b[38;5;241m=\u001b[39m defaultdict(\u001b[38;5;28mlist\u001b[39m)\n\u001b[0;32m      3\u001b[0m \u001b[38;5;28;01mfor\u001b[39;00m skill, mastery_level \u001b[38;5;129;01min\u001b[39;00m skill_list:\n\u001b[0;32m      4\u001b[0m     \u001b[38;5;66;03m# if the mastery level is a string and is in the mastery levels, we replace it with the corresponding value, otherwise we do nothing and continue to the next skill\u001b[39;00m\n\u001b[1;32m----> 5\u001b[0m     \u001b[38;5;28;01mif\u001b[39;00m \u001b[38;5;28misinstance\u001b[39m(mastery_level, \u001b[38;5;28mstr\u001b[39m) \u001b[38;5;129;01mand\u001b[39;00m \u001b[43mmastery_level\u001b[49m\u001b[43m \u001b[49m\u001b[38;5;129;43;01min\u001b[39;49;00m\u001b[43m \u001b[49m\u001b[43mmastery_levels\u001b[49m:\n\u001b[0;32m      6\u001b[0m         mastery_level \u001b[38;5;241m=\u001b[39m mastery_levels[mastery_level]\n\u001b[0;32m      7\u001b[0m         \u001b[38;5;28;01mif\u001b[39;00m mastery_level \u001b[38;5;241m==\u001b[39m \u001b[38;5;241m-\u001b[39m\u001b[38;5;241m1\u001b[39m:\n",
      "\u001b[1;31mTypeError\u001b[0m: argument of type 'NoneType' is not iterable"
     ]
    }
   ],
   "source": [
    "load_learners(config,skills,mastery_levels)"
   ]
  },
  {
   "cell_type": "code",
   "execution_count": 112,
   "id": "25225a66-8e77-40f2-b53b-0b72d1128c24",
   "metadata": {},
   "outputs": [
    {
     "ename": "NameError",
     "evalue": "name 'skills' is not defined",
     "output_type": "error",
     "traceback": [
      "\u001b[1;31m---------------------------------------------------------------------------\u001b[0m",
      "\u001b[1;31mNameError\u001b[0m                                 Traceback (most recent call last)",
      "Cell \u001b[1;32mIn[112], line 1\u001b[0m\n\u001b[1;32m----> 1\u001b[0m \u001b[38;5;28mprint\u001b[39m(\u001b[43mskills\u001b[49m)\n",
      "\u001b[1;31mNameError\u001b[0m: name 'skills' is not defined"
     ]
    }
   ],
   "source": [
    "print(skills)"
   ]
  },
  {
   "cell_type": "code",
   "execution_count": null,
   "id": "e349de13-e3fb-4a6f-b01a-6510cb5c6434",
   "metadata": {},
   "outputs": [],
   "source": []
  }
 ],
 "metadata": {
  "kernelspec": {
   "display_name": "Python 3 (ipykernel)",
   "language": "python",
   "name": "python3"
  },
  "language_info": {
   "codemirror_mode": {
    "name": "ipython",
    "version": 3
   },
   "file_extension": ".py",
   "mimetype": "text/x-python",
   "name": "python",
   "nbconvert_exporter": "python",
   "pygments_lexer": "ipython3",
   "version": "3.11.4"
  }
 },
 "nbformat": 4,
 "nbformat_minor": 5
}
