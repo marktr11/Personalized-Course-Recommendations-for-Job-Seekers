{
 "cells": [
  {
   "cell_type": "code",
   "execution_count": 2,
   "id": "0257cead",
   "metadata": {},
   "outputs": [],
   "source": [
    "import json\n",
    "import random\n",
    "\n",
    "import pandas as pd\n",
    "import numpy as np\n",
    "\n",
    "from collections import defaultdict"
   ]
  },
  {
   "cell_type": "code",
   "execution_count": null,
   "id": "08464a46",
   "metadata": {},
   "outputs": [],
   "source": []
  },
  {
   "cell_type": "code",
   "execution_count": null,
   "id": "e9c12c9c",
   "metadata": {},
   "outputs": [],
   "source": [
    "def load_skills():\n",
    "        # load the skills from the taxonomy file\n",
    "        skills = pd.read_csv(config[\"taxonomy_path\"])\n",
    "\n",
    "        # if level_3 is true, we only use the level 3 of the skill taxonomy, then we need to get the unique values in column Type Level 3\n",
    "        if config[\"level_3\"]:\n",
    "            # get all the unique values in column Type Level 3\n",
    "            level2int = {\n",
    "                level: i for i, level in enumerate(skills[\"Type Level 3\"].unique())\n",
    "            }\n",
    "\n",
    "            # make a dict from column unique_id to column Type Level 3\n",
    "            skills_dict = dict(\n",
    "                zip(skills[\"unique_id\"], skills[\"Type Level 3\"])\n",
    "            )\n",
    "\n",
    "            # map skills_dict values to level2int\n",
    "            skills2int = {\n",
    "                key: level2int[value] for key, value in skills_dict.items()\n",
    "            }\n",
    "            skills = set(skills2int.values())\n",
    "        # if level_3 is false, we use the unique_id column as the skills\n",
    "        else:\n",
    "            skills = set(skills[\"unique_id\"])\n",
    "            skills2int = {skill: i for i, skill in enumerate(skills)}"
   ]
  }
 ],
 "metadata": {
  "kernelspec": {
   "display_name": ".venv",
   "language": "python",
   "name": "python3"
  },
  "language_info": {
   "codemirror_mode": {
    "name": "ipython",
    "version": 3
   },
   "file_extension": ".py",
   "mimetype": "text/x-python",
   "name": "python",
   "nbconvert_exporter": "python",
   "pygments_lexer": "ipython3",
   "version": "3.11.4"
  }
 },
 "nbformat": 4,
 "nbformat_minor": 5
}
